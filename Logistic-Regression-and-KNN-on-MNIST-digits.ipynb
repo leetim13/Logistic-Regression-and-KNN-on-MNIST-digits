{
 "cells": [
  {
   "cell_type": "markdown",
   "metadata": {},
   "source": [
    "# Comparison of (penalized) Logistic Regression and K-Nearest-Neighbors (KNN) on MNIST digits"
   ]
  },
  {
   "cell_type": "markdown",
   "metadata": {},
   "source": [
    "This mini project will compare the performance. characteristics, and implementations of the two commonly used classifiers, namely Logistic Regression and k-Nearest Neighbors. The data we will be working with are hand-written MNIST digit of 4s and 9s, represented as `28x28` pixel arrays. There will be two training sets: `mnist_train`, which contains 80 examples of each class, and `mnist_train_small`, which contains 5 examples of each class. There is also a validation set `mnist_valid` that we will use for model selection, and a test set `mnist_test` for the final testing."
   ]
  },
  {
   "cell_type": "markdown",
   "metadata": {},
   "source": [
    "## KNN Implementation"
   ]
  },
  {
   "cell_type": "code",
   "execution_count": 1,
   "metadata": {},
   "outputs": [],
   "source": [
    "#setup\n",
    "import numpy as np\n",
    "import matplotlib.pyplot as plt\n",
    "import math"
   ]
  },
  {
   "cell_type": "markdown",
   "metadata": {},
   "source": [
    "Implement the function that computes the Euclidean distance matrix between the image $a$ and $b$."
   ]
  },
  {
   "cell_type": "code",
   "execution_count": 2,
   "metadata": {},
   "outputs": [],
   "source": [
    "def l2_distance(a, b):\n",
    "    if a.shape[0] != b.shape[0]:\n",
    "        raise ValueError(\"A and B should be of same dimensionality\")\n",
    "    aa = np.sum(a**2, axis=0)\n",
    "    bb = np.sum(b**2, axis=0)\n",
    "    ab = np.dot(a.T, b)\n",
    "    return np.sqrt(aa[:, np.newaxis] + bb[np.newaxis, :] - 2*ab)"
   ]
  },
  {
   "cell_type": "markdown",
   "metadata": {},
   "source": [
    "Load the MNIST digits datasets."
   ]
  },
  {
   "cell_type": "code",
   "execution_count": 3,
   "metadata": {},
   "outputs": [],
   "source": [
    "def load_train():\n",
    "    \"\"\"Loads training data.\"\"\"\n",
    "    with open('mnist_train.npz', 'rb') as f:\n",
    "        train_set = np.load(f)\n",
    "        train_inputs = train_set['train_inputs']\n",
    "        train_targets = train_set['train_targets']\n",
    "    return train_inputs, train_targets \n",
    "\n",
    "def load_train_small():\n",
    "    \"\"\"Loads small training data.\"\"\"\n",
    "    with open('mnist_train_small.npz', 'rb') as f:\n",
    "        train_set_small = np.load(f)\n",
    "        train_inputs_small = train_set_small['train_inputs_small']\n",
    "        train_targets_small = train_set_small['train_targets_small']\n",
    "    return train_inputs_small, train_targets_small\n",
    "\n",
    "def load_valid():\n",
    "    \"\"\"Loads validation data.\"\"\"\n",
    "    with open('mnist_valid.npz', 'rb') as f:\n",
    "        valid_set = np.load(f)\n",
    "        valid_inputs = valid_set['valid_inputs']\n",
    "        valid_targets = valid_set['valid_targets']\n",
    "    return valid_inputs, valid_targets \n",
    "\n",
    "def load_test():\n",
    "    \"\"\"Loads test data.\"\"\"\n",
    "    with open('mnist_test.npz', 'rb') as f:\n",
    "        test_set = np.load(f)\n",
    "        test_inputs = test_set['test_inputs']\n",
    "        test_targets = test_set['test_targets']\n",
    "    return test_inputs, test_targets "
   ]
  },
  {
   "cell_type": "markdown",
   "metadata": {},
   "source": [
    "Implement `extract_digits` that returns a list of 28 x 28 pixel intensity arrays starting at `start_index` and ending at `end_index`."
   ]
  },
  {
   "cell_type": "code",
   "execution_count": 4,
   "metadata": {},
   "outputs": [],
   "source": [
    "def extract_digits(digit_array, start_index, end_index):\n",
    "    digits = []\n",
    "    for index in range(int(start_index), int(end_index)):\n",
    "        digits.append(extract_digit_pixels(digit_array, index))\n",
    "    return digits"
   ]
  },
  {
   "cell_type": "markdown",
   "metadata": {},
   "source": [
    "Extracts the 28 x 28 pixel intensity array at the specified index."
   ]
  },
  {
   "cell_type": "code",
   "execution_count": 5,
   "metadata": {},
   "outputs": [],
   "source": [
    "def extract_digit_pixels(digit_array, index):\n",
    "    return digit_array[index].reshape(28, 28)"
   ]
  },
  {
   "cell_type": "markdown",
   "metadata": {},
   "source": [
    "Displays two rows of digits on the screen."
   ]
  },
  {
   "cell_type": "code",
   "execution_count": 6,
   "metadata": {},
   "outputs": [],
   "source": [
    "def show_pane(top_digits, bottom_digits):\n",
    "    all_digits = top_digits + bottom_digits\n",
    "    fig, axes = plt.subplots(nrows = 2, ncols = len(all_digits)//2)\n",
    "    for axis, digit in zip(axes.reshape(-1), all_digits):\n",
    "        axis.imshow(digit, interpolation='nearest', cmap=plt.gray())\n",
    "        axis.axis('off')\n",
    "    plt.show()"
   ]
  },
  {
   "cell_type": "markdown",
   "metadata": {},
   "source": [
    "Implement the function `plot_digits` to visualizes each example in `digit_array`."
   ]
  },
  {
   "cell_type": "code",
   "execution_count": 7,
   "metadata": {},
   "outputs": [],
   "source": [
    "def plot_digits(digit_array):\n",
    "    \"\"\"\n",
    "    Note: N is the number of examples \n",
    "          and M is the number of features per example.\n",
    "    Inputs:\n",
    "        digits: N x M array of pixel intensities.\n",
    "    \"\"\"\n",
    "    CLASS_EXAMPLES_PER_PANE = 5\n",
    "\n",
    "    # assume two evenly split classes\n",
    "    examples_per_class = digit_array.shape[0]/2\n",
    "    num_panes = int(np.ceil(float(examples_per_class)/CLASS_EXAMPLES_PER_PANE))\n",
    "\n",
    "    for pane in range(num_panes):\n",
    "        print(\"Displaying pane {}/{}\".format(pane+1, num_panes))\n",
    "\n",
    "        top_start = pane*CLASS_EXAMPLES_PER_PANE\n",
    "        top_end = min((pane+1)*CLASS_EXAMPLES_PER_PANE, examples_per_class)\n",
    "        top_pane_digits = extract_digits(digit_array, top_start, top_end)\n",
    "\n",
    "        bottom_start = top_start + examples_per_class\n",
    "        bottom_end = top_end + examples_per_class\n",
    "        bottom_pane_digits = extract_digits(digit_array, bottom_start, bottom_end)\n",
    "        show_pane(top_pane_digits, bottom_pane_digits)"
   ]
  },
  {
   "cell_type": "markdown",
   "metadata": {},
   "source": [
    "Example of plotting a digit from `load_train_small`"
   ]
  },
  {
   "cell_type": "code",
   "execution_count": 8,
   "metadata": {},
   "outputs": [
    {
     "name": "stdout",
     "output_type": "stream",
     "text": [
      "Displaying pane 1/1\n"
     ]
    },
    {
     "data": {
      "image/png": "[encoded data removed]",
      "text/plain": [
       "<Figure size 432x288 with 10 Axes>"
      ]
     },
     "metadata": {
      "needs_background": "light"
     },
     "output_type": "display_data"
    }
   ],
   "source": [
    "plot_digits(load_train_small()[0])"
   ]
  },
  {
   "cell_type": "markdown",
   "metadata": {},
   "source": [
    "Corresponding lables of `load_train_small`"
   ]
  },
  {
   "cell_type": "code",
   "execution_count": 9,
   "metadata": {},
   "outputs": [
    {
     "data": {
      "text/plain": [
       "array([[0.],\n",
       "       [0.],\n",
       "       [0.],\n",
       "       [0.],\n",
       "       [0.],\n",
       "       [1.],\n",
       "       [1.],\n",
       "       [1.],\n",
       "       [1.],\n",
       "       [1.]])"
      ]
     },
     "execution_count": 9,
     "metadata": {},
     "output_type": "execute_result"
    }
   ],
   "source": [
    "load_train_small()[1]"
   ]
  },
  {
   "cell_type": "markdown",
   "metadata": {},
   "source": [
    "## KNN Execution"
   ]
  },
  {
   "cell_type": "markdown",
   "metadata": {},
   "source": [
    "Implement the main function for KNN, `run_knn` that uses the supplied training inputs and labels to make predictions for validation data using the K-nearest neighbours algorithm."
   ]
  },
  {
   "cell_type": "code",
   "execution_count": 10,
   "metadata": {},
   "outputs": [],
   "source": [
    "def run_knn(k, train_data, train_labels, valid_data):\n",
    "    \"\"\"\n",
    "    Note: N_TRAIN is the number of training examples,\n",
    "          N_VALID is the number of validation examples, \n",
    "          and M is the number of features per example.\n",
    "    Inputs:\n",
    "        k:            The number of neighbours to use for classification \n",
    "                      of a validation example.\n",
    "        train_data:   The N_TRAIN x M array of training\n",
    "                      data.\n",
    "        train_labels: The N_TRAIN x 1 vector of training labels\n",
    "                      corresponding to the examples in train_data \n",
    "                      (must be binary).\n",
    "        valid_data:   The N_VALID x M array of data to\n",
    "                      predict classes for.\n",
    "    Outputs:\n",
    "        valid_labels: The N_VALID x 1 vector of predicted labels \n",
    "                      for the validation data.\n",
    "    \"\"\"\n",
    "\n",
    "    dist = l2_distance(valid_data.T, train_data.T)\n",
    "    nearest = np.argsort(dist, axis=1)[:,:k]\n",
    "\n",
    "    train_labels = train_labels.reshape(-1)\n",
    "    valid_labels = train_labels[nearest]\n",
    "\n",
    "    # note this only works for binary labels\n",
    "    valid_labels = (np.mean(valid_labels, axis=1) >= 0.5).astype(np.int)\n",
    "    valid_labels = valid_labels.reshape(-1,1)\n",
    "\n",
    "    return valid_labels"
   ]
  },
  {
   "cell_type": "markdown",
   "metadata": {},
   "source": [
    "Run `kNN` for different values of $k \\in \\{1, 3, 5, 7, 9\\}$ and plot the classification rate on the validation set (number of correctly predicted cases, divided by total number of data points) as a function of `k`."
   ]
  },
  {
   "cell_type": "code",
   "execution_count": 11,
   "metadata": {},
   "outputs": [],
   "source": [
    "train_inputs, train_targets = load_train()\n",
    "valid_inputs, valid_targets = load_valid()\n",
    "test_inputs, test_targets = load_test()\n",
    "\n",
    "set_k = [1,3,5,7,9]\n",
    "\n",
    "accuracy_valid_output = {}\n",
    "accuracy_test_output = {}\n",
    "\n",
    "length_valid = len(valid_inputs)\n",
    "length_test = len(test_inputs)\n",
    "for k in set_k:\n",
    "    valid_outputs = run_knn(k, train_inputs, train_targets, valid_inputs)\n",
    "    test_outputs =  run_knn(k, train_inputs, train_targets, test_inputs)\n",
    "\n",
    "    count_valid = np.sum(valid_outputs == valid_targets) \n",
    "    accuracy_valid = count_valid/length_valid\n",
    "    accuracy_valid_output[\"k=\"+str(k)] = accuracy_valid\n",
    "\n",
    "    count_test = np.sum(test_outputs == test_targets) \n",
    "    accuracy_test = count_test/length_test\n",
    "    accuracy_test_output[\"k=\"+str(k)] = accuracy_test"
   ]
  },
  {
   "cell_type": "markdown",
   "metadata": {},
   "source": [
    "Validation Accuracy:"
   ]
  },
  {
   "cell_type": "code",
   "execution_count": 12,
   "metadata": {},
   "outputs": [
    {
     "data": {
      "text/plain": [
       "{'k=1': 0.82, 'k=3': 0.86, 'k=5': 0.86, 'k=7': 0.86, 'k=9': 0.84}"
      ]
     },
     "execution_count": 12,
     "metadata": {},
     "output_type": "execute_result"
    }
   ],
   "source": [
    "accuracy_valid_output"
   ]
  },
  {
   "cell_type": "markdown",
   "metadata": {},
   "source": [
    "Test Accuracy"
   ]
  },
  {
   "cell_type": "code",
   "execution_count": 13,
   "metadata": {},
   "outputs": [
    {
     "data": {
      "text/plain": [
       "{'k=1': 0.88, 'k=3': 0.92, 'k=5': 0.94, 'k=7': 0.94, 'k=9': 0.88}"
      ]
     },
     "execution_count": 13,
     "metadata": {},
     "output_type": "execute_result"
    }
   ],
   "source": [
    "accuracy_test_output"
   ]
  },
  {
   "cell_type": "code",
   "execution_count": 14,
   "metadata": {},
   "outputs": [
    {
     "data": {
      "image/png": "[encoded data removed]",
      "text/plain": [
       "<Figure size 432x288 with 1 Axes>"
      ]
     },
     "metadata": {
      "needs_background": "light"
     },
     "output_type": "display_data"
    }
   ],
   "source": [
    "plt.plot(set_k, list(accuracy_valid_output.values()), label=\"validation rate\")\n",
    "plt.plot(set_k, list(accuracy_test_output.values()), label=\"test rate\")\n",
    "\n",
    "plt.title(\"Test VS Validation Classification Rate\")\n",
    "plt.xlabel(\"k\")\n",
    "plt.ylabel(\"Accuracy/Classification Rate\")\n",
    "plt.legend()\n",
    "plt.savefig(\"Test Set VS Validation Rates of KNN.png\")"
   ]
  },
  {
   "cell_type": "markdown",
   "metadata": {},
   "source": [
    "### Comments on the performance and which value of k* to choose from:"
   ]
  },
  {
   "cell_type": "markdown",
   "metadata": {},
   "source": [
    "Although the $k$ value of $5$ and $7$ has the same classification rate for both test and validation data set, I would choose $k^*$ to be $5$. This is because having choosing $k^* = 5$, $k^*-2 = 3$ and $k^*+2 = 7$ also outputs the highest classification rate (for both test and validation) compared to all other values for $k^*$. This might suggest that this value of $k^*$ would also perform better in different data sets (as shown by the figure above).\n",
    "\n",
    "However, the classification rate for validation and test set does not correspond, for example, for $k=3$ and $k=5$, they both have the classification rate of $0.86$ on validation set, the performance on test set is $0.92$ and $0.94$, respectively. This is likely to be caused by the different labelled data set provided to training and validation data (since both their sample size is 50 while the sample size for training set is 160). This causes the classification rate for test set to be consistently higher than that of all validation set."
   ]
  },
  {
   "cell_type": "markdown",
   "metadata": {},
   "source": [
    "## Logisitic Regression"
   ]
  },
  {
   "cell_type": "markdown",
   "metadata": {},
   "source": [
    "Now, we will perform the experiment with the same MNIST datasets using logisitic regression on both `mnist_train` and `mnist_train_small` datasets, and attempt to choose the best hyperparameters for the `learning rate`, the `number of iterations`, and the way in which we initialize the `weights`."
   ]
  },
  {
   "cell_type": "markdown",
   "metadata": {},
   "source": [
    "Computes the element wise logistic sigmoid of $x$."
   ]
  },
  {
   "cell_type": "code",
   "execution_count": 15,
   "metadata": {},
   "outputs": [],
   "source": [
    "def sigmoid(x):\n",
    "    \"\"\"\n",
    "    Inputs:\n",
    "        x: Either a row vector or a column vector.\n",
    "    \"\"\"\n",
    "    return 1.0 / (1.0 + np.exp(-x))"
   ]
  },
  {
   "cell_type": "markdown",
   "metadata": {},
   "source": [
    "Implement the `logistic_predict` function to compute the probabilities predicted by the logistic classifier."
   ]
  },
  {
   "cell_type": "code",
   "execution_count": 16,
   "metadata": {},
   "outputs": [],
   "source": [
    "def logistic_predict(weights, data):\n",
    "    \"\"\"\n",
    "    Note: N is the number of examples and\n",
    "          M is the number of features per example.\n",
    "\n",
    "    Inputs:\n",
    "        weights:    (M+1) x 1 vector of weights, where the last element\n",
    "                    corresponds to the bias (intercepts).\n",
    "        data:       N x M data matrix where each row corresponds\n",
    "                    to one data point.\n",
    "    Outputs:\n",
    "        y:          :N x 1 vector of probabilities. This is the output of the classifier.\n",
    "    \"\"\"\n",
    "    b = weights[-1]\n",
    "    y = sigmoid(np.dot(data, weights[:-1]) + b)\n",
    "    return y"
   ]
  },
  {
   "cell_type": "markdown",
   "metadata": {},
   "source": [
    "Compute evaluation metrics."
   ]
  },
  {
   "cell_type": "code",
   "execution_count": 17,
   "metadata": {},
   "outputs": [],
   "source": [
    "def evaluate(targets, y):\n",
    "    \"\"\"\n",
    "    Inputs:\n",
    "        targets : N x 1 vector of targets.\n",
    "        y       : N x 1 vector of probabilities.\n",
    "    Outputs:\n",
    "        ce           : (scalar) Cross entropy. CE(p, q) = E_p[-log q]. Here we want to compute CE(targets, y)\n",
    "        frac_correct : (scalar) Fraction of inputs classified correctly.\n",
    "    \"\"\"\n",
    "    ce = - np.dot(np.transpose(targets), np.log(y)) #\n",
    "    frac_correct = (targets == (y > 0.5)).mean()  #\n",
    "    return ce, frac_correct"
   ]
  },
  {
   "cell_type": "markdown",
   "metadata": {},
   "source": [
    "Calculate negative log likelihood and its derivatives with respect to weights and also return the predictions."
   ]
  },
  {
   "cell_type": "code",
   "execution_count": 18,
   "metadata": {},
   "outputs": [],
   "source": [
    "def logistic(weights, data, targets, hyperparameters):\n",
    "    \"\"\"\n",
    "    Note: N is the number of examples and\n",
    "          M is the number of features per example.\n",
    "    Inputs:\n",
    "        weights:    (M+1) x 1 vector of weights, where the last element\n",
    "                    corresponds to bias (intercepts).\n",
    "        data:       N x M data matrix where each row corresponds\n",
    "                    to one data point.\n",
    "        targets:    N x 1 vector of targets class probabilities.\n",
    "        hyperparameters: The hyperparameters dictionary.\n",
    "    Outputs:\n",
    "        f:       The sum of the loss over all data points. This is the objective that we want to minimize.\n",
    "        df:      (M+1) x 1 vector of derivative of f w.r.t. weights.\n",
    "        y:       N x 1 vector of probabilities.\n",
    "    \"\"\"  \n",
    "    y = logistic_predict(weights, data) #after sigmoid transformation\n",
    "    #compute f and df without regularization\n",
    "    f = 0\n",
    "    for i in range(len(y)): #y is vector of n elements\n",
    "        f += (-targets[i]*math.log(y[i])) - (1-targets[i])*math.log(1-y[i]) #by formula of L_CE\n",
    "        \n",
    "    product = data.T.dot(y-targets)\n",
    "    #add vector of sum([y-targets]) to the last row to make df to size (M+1) x 1\n",
    "    df = np.append(product, [[np.sum(y-targets)]], axis = 0) \n",
    "    return f, df, y"
   ]
  },
  {
   "cell_type": "markdown",
   "metadata": {},
   "source": [
    "Performs a simple gradient check on logistic function."
   ]
  },
  {
   "cell_type": "code",
   "execution_count": 19,
   "metadata": {},
   "outputs": [],
   "source": [
    "def check_grad(func, X, epsilon, *args):\n",
    "    \"\"\"\n",
    "    checks the derivatives in a function, by comparing them to finite\n",
    "    differences approximations. The partial derivatives and the approximation\n",
    "    are printed and the norm of the diffrence divided by the norm of the sum is\n",
    "    returned as an indication of accuracy.\n",
    "    usage: checkgrad(func, X, epsilon, P1, P2, ...)\n",
    "    where X is the argument and epsilon is the small perturbation used for the finite\n",
    "    differences. and the P1, P2, ... are optional additional parameters which\n",
    "    get passed to f. The function f should be of the type\n",
    "    (fX, dfX) = func(X, P1, P2, ...)\n",
    "    where fX is the function value and dfX is a vector of partial derivatives.\n",
    "    Original Author: Carl Edward Rasmussen, 2001-08-01.\n",
    "    Ported to Python 2.7 by JCS (9/21/2013).\n",
    "    \"\"\"\n",
    "    if len(X.shape) != 2 or X.shape[1] != 1:\n",
    "        raise ValueError(\"X must be a vector\")\n",
    "    y, dy, = func(X, *args)[:2]         # get the partial derivatives dy\n",
    "    dh = np.zeros((len(X), 1))\n",
    "    for j in range(len(X)):\n",
    "        dx = np.zeros((len(X), 1))\n",
    "        dx[j] += epsilon\n",
    "        y2 = func(X+dx, *args)[0]\n",
    "        dx = -dx\n",
    "        y1 = func(X+dx, *args)[0]\n",
    "        dh[j] = (y2 - y1)/(2*epsilon)\n",
    "#     print(np.hstack((dy, dh)))         # print the two vectors\n",
    "    d = np.linalg.norm(dh-dy)/np.linalg.norm(dh+dy)  # return norm of diff divided by norm of sum\n",
    "    return d\n",
    "\n",
    "def run_check_grad(hyperparameters):\n",
    "    # This creates small random data with 20 examples and\n",
    "    # 10 dimensions and checks the gradient on that data.\n",
    "    num_examples = 20\n",
    "    num_dimensions = 10\n",
    "    weights = np.random.randn(num_dimensions+1, 1)\n",
    "    data    = np.random.randn(num_examples, num_dimensions)\n",
    "    targets = np.random.rand(num_examples, 1)\n",
    "\n",
    "    diff = check_grad(logistic,      # function to check\n",
    "                      weights,\n",
    "                      0.001,         # perturbation\n",
    "                      data,\n",
    "                      targets,\n",
    "                      hyperparameters)\n",
    "    print(\"check_grad diff (should be close to 0)=\", diff)"
   ]
  },
  {
   "cell_type": "markdown",
   "metadata": {},
   "source": [
    "## Execution"
   ]
  },
  {
   "cell_type": "code",
   "execution_count": 20,
   "metadata": {},
   "outputs": [],
   "source": [
    "def run_logistic_regression(learning_rate, num_iterations, stats_on=True):\n",
    "    train_inputs, train_targets = load_train()\n",
    "    #train_inputs, train_targets = load_train_small()\n",
    "    valid_inputs, valid_targets = load_valid()\n",
    "    N, M = train_inputs.shape\n",
    "\n",
    "    # Set hyperparameters\n",
    "    hyperparameters = {\n",
    "                    'learning_rate': learning_rate,\n",
    "                    'weight_regularization': 1,\n",
    "                    'num_iterations':num_iterations\n",
    "                 }\n",
    "\n",
    "    # Logistic regression weights\n",
    "    # Initialize to random weights here.\n",
    "    weights = np.random.randn(M + 1, 1) /10\n",
    "\n",
    "    # Verify that your logistic function produces the right gradient.\n",
    "    # diff should be very close to 0.\n",
    "    run_check_grad(hyperparameters)\n",
    "\n",
    "    ce_train = []\n",
    "    ce_test = []\n",
    "    fc_train = []\n",
    "    fc_test = []\n",
    "\n",
    "    # Begin learning with gradient descent\n",
    "    for t in range(hyperparameters['num_iterations']):\n",
    "\n",
    "        # Find the negative log likelihood and its derivatives w.r.t. the weights.\n",
    "        f, df, predictions = logistic(weights, train_inputs, train_targets, hyperparameters)\n",
    "\n",
    "        # Evaluate the prediction.\n",
    "        cross_entropy_train, frac_correct_train = evaluate(train_targets, predictions)\n",
    "\n",
    "        if np.isnan(f) or np.isinf(f):\n",
    "            raise ValueError(\"nan/inf error\")\n",
    "\n",
    "        # update parameters\n",
    "        weights = weights - hyperparameters['learning_rate'] * df / N\n",
    "\n",
    "        # Make a prediction on the valid_inputs.\n",
    "        predictions_valid = logistic_predict(weights, valid_inputs)\n",
    "\n",
    "        # Evaluate the prediction.\n",
    "        cross_entropy_valid, frac_correct_valid = evaluate(valid_targets, predictions_valid)\n",
    "\n",
    "        # print stats if stats_on is True\n",
    "        if stats_on:\n",
    "            print((\"ITERATION:{:4d}  TRAIN NLOGL:{:4.2f}  TRAIN CE:{:.6f} \"\n",
    "                   \"TRAIN FRAC:{:2.2f}  VALID CE:{:.6f}  VALID FRAC:{:2.2f}\").format(\n",
    "                       (t+1), float(f / N), float(cross_entropy_train), float(frac_correct_train*100),\n",
    "                       float(cross_entropy_valid), float(frac_correct_valid*100)))\n",
    "\n",
    "        ce_train = np.append(ce_train, cross_entropy_train)\n",
    "        ce_test = np.append(ce_test, cross_entropy_valid)\n",
    "        fc_train = np.append(fc_train, frac_correct_train)\n",
    "        fc_test = np.append(fc_test, frac_correct_valid)\n",
    "\n",
    "    plt.plot(ce_train, label = \"training set\")\n",
    "    plt.plot(ce_test, label = \"validation set\")\n",
    "    plt.title(\"Cross Entropy with small training set using \\n learning rate \"+ str(hyperparameters['learning_rate'])+\n",
    "              \" and \" + str(hyperparameters['num_iterations']) + \" iterations\")\n",
    "    plt.legend()\n",
    "    plt.show()\n",
    "    plt.plot(fc_train, label = \"training set\")\n",
    "    plt.plot(fc_test, label = \"validation set\")\n",
    "    plt.title(\"Fraction Correctness with small training set using \\n learning rate \"+ str(hyperparameters['learning_rate'])+\n",
    "          \" and \" + str(hyperparameters['num_iterations']) + \" iterations\")\n",
    "    plt.show()"
   ]
  },
  {
   "cell_type": "code",
   "execution_count": 21,
   "metadata": {},
   "outputs": [
    {
     "name": "stdout",
     "output_type": "stream",
     "text": [
      "check_grad diff (should be close to 0)= 3.540563424731248e-08\n",
      "ITERATION:   1  TRAIN NLOGL:-35.28  TRAIN CE:22.550985 TRAIN FRAC:52.50  VALID CE:14.758832  VALID FRAC:60.00\n",
      "ITERATION:   2  TRAIN NLOGL:-68.58  TRAIN CE:43.254745 TRAIN FRAC:62.50  VALID CE:15.853839  VALID FRAC:64.00\n",
      "ITERATION:   3  TRAIN NLOGL:-73.27  TRAIN CE:46.160545 TRAIN FRAC:70.62  VALID CE:15.221877  VALID FRAC:62.00\n",
      "ITERATION:   4  TRAIN NLOGL:-70.10  TRAIN CE:44.158419 TRAIN FRAC:73.12  VALID CE:14.520392  VALID FRAC:62.00\n",
      "ITERATION:   5  TRAIN NLOGL:-66.64  TRAIN CE:41.978889 TRAIN FRAC:75.62  VALID CE:13.881466  VALID FRAC:64.00\n",
      "ITERATION:   6  TRAIN NLOGL:-63.49  TRAIN CE:39.996353 TRAIN FRAC:77.50  VALID CE:13.307375  VALID FRAC:68.00\n",
      "ITERATION:   7  TRAIN NLOGL:-60.66  TRAIN CE:38.214045 TRAIN FRAC:78.12  VALID CE:12.790638  VALID FRAC:70.00\n",
      "ITERATION:   8  TRAIN NLOGL:-58.11  TRAIN CE:36.607881 TRAIN FRAC:80.62  VALID CE:12.323940  VALID FRAC:72.00\n",
      "ITERATION:   9  TRAIN NLOGL:-55.80  TRAIN CE:35.154775 TRAIN FRAC:81.88  VALID CE:11.900922  VALID FRAC:76.00\n",
      "ITERATION:  10  TRAIN NLOGL:-53.70  TRAIN CE:33.834794 TRAIN FRAC:82.50  VALID CE:11.516133  VALID FRAC:76.00\n",
      "ITERATION:  11  TRAIN NLOGL:-51.79  TRAIN CE:32.630948 TRAIN FRAC:86.25  VALID CE:11.164907  VALID FRAC:78.00\n",
      "ITERATION:  12  TRAIN NLOGL:-50.04  TRAIN CE:31.528771 TRAIN FRAC:87.50  VALID CE:10.843248  VALID FRAC:80.00\n",
      "ITERATION:  13  TRAIN NLOGL:-48.44  TRAIN CE:30.515934 TRAIN FRAC:87.50  VALID CE:10.547727  VALID FRAC:80.00\n",
      "ITERATION:  14  TRAIN NLOGL:-46.95  TRAIN CE:29.581906 TRAIN FRAC:88.12  VALID CE:10.275392  VALID FRAC:80.00\n",
      "ITERATION:  15  TRAIN NLOGL:-45.58  TRAIN CE:28.717668 TRAIN FRAC:89.38  VALID CE:10.023700  VALID FRAC:82.00\n",
      "ITERATION:  16  TRAIN NLOGL:-44.31  TRAIN CE:27.915474 TRAIN FRAC:89.38  VALID CE:9.790446  VALID FRAC:82.00\n",
      "ITERATION:  17  TRAIN NLOGL:-43.12  TRAIN CE:27.168646 TRAIN FRAC:90.00  VALID CE:9.573720  VALID FRAC:82.00\n",
      "ITERATION:  18  TRAIN NLOGL:-42.01  TRAIN CE:26.471410 TRAIN FRAC:90.62  VALID CE:9.371855  VALID FRAC:82.00\n",
      "ITERATION:  19  TRAIN NLOGL:-40.98  TRAIN CE:25.818750 TRAIN FRAC:91.25  VALID CE:9.183397  VALID FRAC:82.00\n",
      "ITERATION:  20  TRAIN NLOGL:-40.01  TRAIN CE:25.206301 TRAIN FRAC:91.88  VALID CE:9.007068  VALID FRAC:82.00\n",
      "ITERATION:  21  TRAIN NLOGL:-39.09  TRAIN CE:24.630241 TRAIN FRAC:91.88  VALID CE:8.841746  VALID FRAC:82.00\n",
      "ITERATION:  22  TRAIN NLOGL:-38.23  TRAIN CE:24.087221 TRAIN FRAC:91.88  VALID CE:8.686439  VALID FRAC:82.00\n",
      "ITERATION:  23  TRAIN NLOGL:-37.42  TRAIN CE:23.574287 TRAIN FRAC:92.50  VALID CE:8.540270  VALID FRAC:82.00\n",
      "ITERATION:  24  TRAIN NLOGL:-36.65  TRAIN CE:23.088832 TRAIN FRAC:92.50  VALID CE:8.402459  VALID FRAC:82.00\n",
      "ITERATION:  25  TRAIN NLOGL:-35.91  TRAIN CE:22.628544 TRAIN FRAC:92.50  VALID CE:8.272310  VALID FRAC:84.00\n",
      "ITERATION:  26  TRAIN NLOGL:-35.22  TRAIN CE:22.191364 TRAIN FRAC:92.50  VALID CE:8.149204  VALID FRAC:84.00\n",
      "ITERATION:  27  TRAIN NLOGL:-34.56  TRAIN CE:21.775458 TRAIN FRAC:92.50  VALID CE:8.032585  VALID FRAC:84.00\n",
      "ITERATION:  28  TRAIN NLOGL:-33.93  TRAIN CE:21.379181 TRAIN FRAC:92.50  VALID CE:7.921953  VALID FRAC:84.00\n",
      "ITERATION:  29  TRAIN NLOGL:-33.33  TRAIN CE:21.001061 TRAIN FRAC:92.50  VALID CE:7.816858  VALID FRAC:84.00\n",
      "ITERATION:  30  TRAIN NLOGL:-32.76  TRAIN CE:20.639768 TRAIN FRAC:92.50  VALID CE:7.716894  VALID FRAC:84.00\n",
      "ITERATION:  31  TRAIN NLOGL:-32.21  TRAIN CE:20.294106 TRAIN FRAC:93.12  VALID CE:7.621694  VALID FRAC:84.00\n",
      "ITERATION:  32  TRAIN NLOGL:-31.68  TRAIN CE:19.962989 TRAIN FRAC:93.12  VALID CE:7.530923  VALID FRAC:86.00\n",
      "ITERATION:  33  TRAIN NLOGL:-31.18  TRAIN CE:19.645434 TRAIN FRAC:93.12  VALID CE:7.444279  VALID FRAC:86.00\n",
      "ITERATION:  34  TRAIN NLOGL:-30.70  TRAIN CE:19.340546 TRAIN FRAC:93.12  VALID CE:7.361486  VALID FRAC:88.00\n",
      "ITERATION:  35  TRAIN NLOGL:-30.23  TRAIN CE:19.047511 TRAIN FRAC:94.38  VALID CE:7.282291  VALID FRAC:88.00\n",
      "ITERATION:  36  TRAIN NLOGL:-29.78  TRAIN CE:18.765584 TRAIN FRAC:94.38  VALID CE:7.206464  VALID FRAC:88.00\n",
      "ITERATION:  37  TRAIN NLOGL:-29.35  TRAIN CE:18.494083 TRAIN FRAC:95.00  VALID CE:7.133794  VALID FRAC:88.00\n",
      "ITERATION:  38  TRAIN NLOGL:-28.94  TRAIN CE:18.232384 TRAIN FRAC:95.00  VALID CE:7.064086  VALID FRAC:88.00\n",
      "ITERATION:  39  TRAIN NLOGL:-28.54  TRAIN CE:17.979912 TRAIN FRAC:95.00  VALID CE:6.997162  VALID FRAC:88.00\n",
      "ITERATION:  40  TRAIN NLOGL:-28.15  TRAIN CE:17.736138 TRAIN FRAC:95.62  VALID CE:6.932857  VALID FRAC:88.00\n",
      "ITERATION:  41  TRAIN NLOGL:-27.78  TRAIN CE:17.500574 TRAIN FRAC:96.25  VALID CE:6.871021  VALID FRAC:88.00\n",
      "ITERATION:  42  TRAIN NLOGL:-27.41  TRAIN CE:17.272771 TRAIN FRAC:96.25  VALID CE:6.811513  VALID FRAC:88.00\n",
      "ITERATION:  43  TRAIN NLOGL:-27.06  TRAIN CE:17.052310 TRAIN FRAC:96.25  VALID CE:6.754202  VALID FRAC:88.00\n",
      "ITERATION:  44  TRAIN NLOGL:-26.73  TRAIN CE:16.838806 TRAIN FRAC:96.25  VALID CE:6.698970  VALID FRAC:88.00\n",
      "ITERATION:  45  TRAIN NLOGL:-26.40  TRAIN CE:16.631900 TRAIN FRAC:96.25  VALID CE:6.645704  VALID FRAC:88.00\n",
      "ITERATION:  46  TRAIN NLOGL:-26.08  TRAIN CE:16.431258 TRAIN FRAC:96.25  VALID CE:6.594301  VALID FRAC:88.00\n",
      "ITERATION:  47  TRAIN NLOGL:-25.77  TRAIN CE:16.236569 TRAIN FRAC:96.25  VALID CE:6.544664  VALID FRAC:88.00\n",
      "ITERATION:  48  TRAIN NLOGL:-25.47  TRAIN CE:16.047545 TRAIN FRAC:96.25  VALID CE:6.496703  VALID FRAC:88.00\n",
      "ITERATION:  49  TRAIN NLOGL:-25.18  TRAIN CE:15.863915 TRAIN FRAC:96.25  VALID CE:6.450334  VALID FRAC:88.00\n",
      "ITERATION:  50  TRAIN NLOGL:-24.90  TRAIN CE:15.685426 TRAIN FRAC:96.25  VALID CE:6.405480  VALID FRAC:88.00\n",
      "ITERATION:  51  TRAIN NLOGL:-24.62  TRAIN CE:15.511842 TRAIN FRAC:96.25  VALID CE:6.362066  VALID FRAC:88.00\n",
      "ITERATION:  52  TRAIN NLOGL:-24.35  TRAIN CE:15.342941 TRAIN FRAC:96.25  VALID CE:6.320025  VALID FRAC:88.00\n",
      "ITERATION:  53  TRAIN NLOGL:-24.09  TRAIN CE:15.178517 TRAIN FRAC:96.25  VALID CE:6.279292  VALID FRAC:90.00\n",
      "ITERATION:  54  TRAIN NLOGL:-23.84  TRAIN CE:15.018373 TRAIN FRAC:96.25  VALID CE:6.239806  VALID FRAC:90.00\n",
      "ITERATION:  55  TRAIN NLOGL:-23.59  TRAIN CE:14.862326 TRAIN FRAC:96.25  VALID CE:6.201511  VALID FRAC:92.00\n",
      "ITERATION:  56  TRAIN NLOGL:-23.35  TRAIN CE:14.710205 TRAIN FRAC:96.25  VALID CE:6.164355  VALID FRAC:92.00\n",
      "ITERATION:  57  TRAIN NLOGL:-23.11  TRAIN CE:14.561845 TRAIN FRAC:96.25  VALID CE:6.128286  VALID FRAC:92.00\n",
      "ITERATION:  58  TRAIN NLOGL:-22.88  TRAIN CE:14.417094 TRAIN FRAC:96.25  VALID CE:6.093257  VALID FRAC:92.00\n",
      "ITERATION:  59  TRAIN NLOGL:-22.66  TRAIN CE:14.275808 TRAIN FRAC:96.25  VALID CE:6.059226  VALID FRAC:92.00\n",
      "ITERATION:  60  TRAIN NLOGL:-22.44  TRAIN CE:14.137848 TRAIN FRAC:96.25  VALID CE:6.026148  VALID FRAC:92.00\n",
      "ITERATION:  61  TRAIN NLOGL:-22.23  TRAIN CE:14.003088 TRAIN FRAC:96.25  VALID CE:5.993985  VALID FRAC:92.00\n",
      "ITERATION:  62  TRAIN NLOGL:-22.02  TRAIN CE:13.871403 TRAIN FRAC:96.25  VALID CE:5.962700  VALID FRAC:92.00\n",
      "ITERATION:  63  TRAIN NLOGL:-21.81  TRAIN CE:13.742678 TRAIN FRAC:96.25  VALID CE:5.932257  VALID FRAC:92.00\n",
      "ITERATION:  64  TRAIN NLOGL:-21.61  TRAIN CE:13.616803 TRAIN FRAC:96.25  VALID CE:5.902622  VALID FRAC:92.00\n",
      "ITERATION:  65  TRAIN NLOGL:-21.42  TRAIN CE:13.493675 TRAIN FRAC:96.25  VALID CE:5.873764  VALID FRAC:92.00\n",
      "ITERATION:  66  TRAIN NLOGL:-21.23  TRAIN CE:13.373194 TRAIN FRAC:96.88  VALID CE:5.845653  VALID FRAC:92.00\n",
      "ITERATION:  67  TRAIN NLOGL:-21.04  TRAIN CE:13.255266 TRAIN FRAC:96.88  VALID CE:5.818261  VALID FRAC:92.00\n",
      "ITERATION:  68  TRAIN NLOGL:-20.86  TRAIN CE:13.139803 TRAIN FRAC:96.88  VALID CE:5.791559  VALID FRAC:92.00\n",
      "ITERATION:  69  TRAIN NLOGL:-20.68  TRAIN CE:13.026718 TRAIN FRAC:96.88  VALID CE:5.765524  VALID FRAC:92.00\n",
      "ITERATION:  70  TRAIN NLOGL:-20.50  TRAIN CE:12.915931 TRAIN FRAC:97.50  VALID CE:5.740129  VALID FRAC:92.00\n",
      "ITERATION:  71  TRAIN NLOGL:-20.33  TRAIN CE:12.807366 TRAIN FRAC:97.50  VALID CE:5.715353  VALID FRAC:92.00\n",
      "ITERATION:  72  TRAIN NLOGL:-20.16  TRAIN CE:12.700948 TRAIN FRAC:97.50  VALID CE:5.691173  VALID FRAC:92.00\n",
      "ITERATION:  73  TRAIN NLOGL:-19.99  TRAIN CE:12.596607 TRAIN FRAC:97.50  VALID CE:5.667567  VALID FRAC:92.00\n",
      "ITERATION:  74  TRAIN NLOGL:-19.83  TRAIN CE:12.494276 TRAIN FRAC:97.50  VALID CE:5.644516  VALID FRAC:92.00\n",
      "ITERATION:  75  TRAIN NLOGL:-19.67  TRAIN CE:12.393892 TRAIN FRAC:97.50  VALID CE:5.622001  VALID FRAC:92.00\n",
      "ITERATION:  76  TRAIN NLOGL:-19.52  TRAIN CE:12.295394 TRAIN FRAC:97.50  VALID CE:5.600003  VALID FRAC:92.00\n",
      "ITERATION:  77  TRAIN NLOGL:-19.36  TRAIN CE:12.198722 TRAIN FRAC:97.50  VALID CE:5.578505  VALID FRAC:92.00\n",
      "ITERATION:  78  TRAIN NLOGL:-19.21  TRAIN CE:12.103821 TRAIN FRAC:98.12  VALID CE:5.557491  VALID FRAC:92.00\n",
      "ITERATION:  79  TRAIN NLOGL:-19.06  TRAIN CE:12.010638 TRAIN FRAC:98.12  VALID CE:5.536944  VALID FRAC:92.00\n",
      "ITERATION:  80  TRAIN NLOGL:-18.92  TRAIN CE:11.919121 TRAIN FRAC:98.75  VALID CE:5.516850  VALID FRAC:92.00\n",
      "ITERATION:  81  TRAIN NLOGL:-18.78  TRAIN CE:11.829221 TRAIN FRAC:98.75  VALID CE:5.497193  VALID FRAC:92.00\n",
      "ITERATION:  82  TRAIN NLOGL:-18.64  TRAIN CE:11.740891 TRAIN FRAC:98.75  VALID CE:5.477960  VALID FRAC:92.00\n",
      "ITERATION:  83  TRAIN NLOGL:-18.50  TRAIN CE:11.654085 TRAIN FRAC:98.75  VALID CE:5.459138  VALID FRAC:92.00\n",
      "ITERATION:  84  TRAIN NLOGL:-18.36  TRAIN CE:11.568761 TRAIN FRAC:98.75  VALID CE:5.440714  VALID FRAC:92.00\n",
      "ITERATION:  85  TRAIN NLOGL:-18.23  TRAIN CE:11.484877 TRAIN FRAC:98.75  VALID CE:5.422675  VALID FRAC:92.00\n",
      "ITERATION:  86  TRAIN NLOGL:-18.10  TRAIN CE:11.402393 TRAIN FRAC:98.75  VALID CE:5.405010  VALID FRAC:92.00\n",
      "ITERATION:  87  TRAIN NLOGL:-17.97  TRAIN CE:11.321269 TRAIN FRAC:99.38  VALID CE:5.387707  VALID FRAC:92.00\n",
      "ITERATION:  88  TRAIN NLOGL:-17.84  TRAIN CE:11.241470 TRAIN FRAC:100.00  VALID CE:5.370757  VALID FRAC:92.00\n",
      "ITERATION:  89  TRAIN NLOGL:-17.72  TRAIN CE:11.162960 TRAIN FRAC:100.00  VALID CE:5.354148  VALID FRAC:92.00\n",
      "ITERATION:  90  TRAIN NLOGL:-17.60  TRAIN CE:11.085704 TRAIN FRAC:100.00  VALID CE:5.337870  VALID FRAC:92.00\n",
      "ITERATION:  91  TRAIN NLOGL:-17.48  TRAIN CE:11.009669 TRAIN FRAC:100.00  VALID CE:5.321914  VALID FRAC:92.00\n",
      "ITERATION:  92  TRAIN NLOGL:-17.36  TRAIN CE:10.934825 TRAIN FRAC:100.00  VALID CE:5.306271  VALID FRAC:92.00\n",
      "ITERATION:  93  TRAIN NLOGL:-17.24  TRAIN CE:10.861139 TRAIN FRAC:100.00  VALID CE:5.290932  VALID FRAC:92.00\n",
      "ITERATION:  94  TRAIN NLOGL:-17.13  TRAIN CE:10.788583 TRAIN FRAC:100.00  VALID CE:5.275889  VALID FRAC:92.00\n",
      "ITERATION:  95  TRAIN NLOGL:-17.01  TRAIN CE:10.717128 TRAIN FRAC:100.00  VALID CE:5.261132  VALID FRAC:92.00\n",
      "ITERATION:  96  TRAIN NLOGL:-16.90  TRAIN CE:10.646747 TRAIN FRAC:100.00  VALID CE:5.246655  VALID FRAC:92.00\n",
      "ITERATION:  97  TRAIN NLOGL:-16.79  TRAIN CE:10.577413 TRAIN FRAC:100.00  VALID CE:5.232450  VALID FRAC:92.00\n",
      "ITERATION:  98  TRAIN NLOGL:-16.68  TRAIN CE:10.509101 TRAIN FRAC:100.00  VALID CE:5.218509  VALID FRAC:92.00\n",
      "ITERATION:  99  TRAIN NLOGL:-16.57  TRAIN CE:10.441785 TRAIN FRAC:100.00  VALID CE:5.204825  VALID FRAC:92.00\n",
      "ITERATION: 100  TRAIN NLOGL:-16.47  TRAIN CE:10.375443 TRAIN FRAC:100.00  VALID CE:5.191392  VALID FRAC:92.00\n",
      "ITERATION: 101  TRAIN NLOGL:-16.37  TRAIN CE:10.310051 TRAIN FRAC:100.00  VALID CE:5.178203  VALID FRAC:92.00\n",
      "ITERATION: 102  TRAIN NLOGL:-16.26  TRAIN CE:10.245587 TRAIN FRAC:100.00  VALID CE:5.165251  VALID FRAC:92.00\n",
      "ITERATION: 103  TRAIN NLOGL:-16.16  TRAIN CE:10.182028 TRAIN FRAC:100.00  VALID CE:5.152531  VALID FRAC:92.00\n",
      "ITERATION: 104  TRAIN NLOGL:-16.06  TRAIN CE:10.119356 TRAIN FRAC:100.00  VALID CE:5.140037  VALID FRAC:92.00\n",
      "ITERATION: 105  TRAIN NLOGL:-15.96  TRAIN CE:10.057548 TRAIN FRAC:100.00  VALID CE:5.127762  VALID FRAC:92.00\n",
      "ITERATION: 106  TRAIN NLOGL:-15.87  TRAIN CE:9.996586 TRAIN FRAC:100.00  VALID CE:5.115702  VALID FRAC:92.00\n",
      "ITERATION: 107  TRAIN NLOGL:-15.77  TRAIN CE:9.936451 TRAIN FRAC:100.00  VALID CE:5.103851  VALID FRAC:92.00\n",
      "ITERATION: 108  TRAIN NLOGL:-15.68  TRAIN CE:9.877125 TRAIN FRAC:100.00  VALID CE:5.092204  VALID FRAC:92.00\n",
      "ITERATION: 109  TRAIN NLOGL:-15.59  TRAIN CE:9.818588 TRAIN FRAC:100.00  VALID CE:5.080756  VALID FRAC:92.00\n",
      "ITERATION: 110  TRAIN NLOGL:-15.49  TRAIN CE:9.760826 TRAIN FRAC:100.00  VALID CE:5.069502  VALID FRAC:92.00\n",
      "ITERATION: 111  TRAIN NLOGL:-15.40  TRAIN CE:9.703820 TRAIN FRAC:100.00  VALID CE:5.058438  VALID FRAC:92.00\n",
      "ITERATION: 112  TRAIN NLOGL:-15.31  TRAIN CE:9.647555 TRAIN FRAC:100.00  VALID CE:5.047558  VALID FRAC:92.00\n",
      "ITERATION: 113  TRAIN NLOGL:-15.23  TRAIN CE:9.592015 TRAIN FRAC:100.00  VALID CE:5.036860  VALID FRAC:92.00\n"
     ]
    },
    {
     "name": "stdout",
     "output_type": "stream",
     "text": [
      "ITERATION: 114  TRAIN NLOGL:-15.14  TRAIN CE:9.537185 TRAIN FRAC:100.00  VALID CE:5.026337  VALID FRAC:92.00\n",
      "ITERATION: 115  TRAIN NLOGL:-15.05  TRAIN CE:9.483049 TRAIN FRAC:100.00  VALID CE:5.015987  VALID FRAC:92.00\n",
      "ITERATION: 116  TRAIN NLOGL:-14.97  TRAIN CE:9.429595 TRAIN FRAC:100.00  VALID CE:5.005805  VALID FRAC:92.00\n",
      "ITERATION: 117  TRAIN NLOGL:-14.88  TRAIN CE:9.376806 TRAIN FRAC:100.00  VALID CE:4.995788  VALID FRAC:92.00\n",
      "ITERATION: 118  TRAIN NLOGL:-14.80  TRAIN CE:9.324672 TRAIN FRAC:100.00  VALID CE:4.985931  VALID FRAC:92.00\n",
      "ITERATION: 119  TRAIN NLOGL:-14.72  TRAIN CE:9.273177 TRAIN FRAC:100.00  VALID CE:4.976232  VALID FRAC:92.00\n",
      "ITERATION: 120  TRAIN NLOGL:-14.64  TRAIN CE:9.222309 TRAIN FRAC:100.00  VALID CE:4.966686  VALID FRAC:92.00\n",
      "ITERATION: 121  TRAIN NLOGL:-14.56  TRAIN CE:9.172056 TRAIN FRAC:100.00  VALID CE:4.957290  VALID FRAC:92.00\n",
      "ITERATION: 122  TRAIN NLOGL:-14.48  TRAIN CE:9.122407 TRAIN FRAC:100.00  VALID CE:4.948042  VALID FRAC:92.00\n",
      "ITERATION: 123  TRAIN NLOGL:-14.40  TRAIN CE:9.073348 TRAIN FRAC:100.00  VALID CE:4.938937  VALID FRAC:92.00\n",
      "ITERATION: 124  TRAIN NLOGL:-14.33  TRAIN CE:9.024869 TRAIN FRAC:100.00  VALID CE:4.929972  VALID FRAC:92.00\n",
      "ITERATION: 125  TRAIN NLOGL:-14.25  TRAIN CE:8.976958 TRAIN FRAC:100.00  VALID CE:4.921145  VALID FRAC:92.00\n",
      "ITERATION: 126  TRAIN NLOGL:-14.17  TRAIN CE:8.929605 TRAIN FRAC:100.00  VALID CE:4.912453  VALID FRAC:92.00\n",
      "ITERATION: 127  TRAIN NLOGL:-14.10  TRAIN CE:8.882800 TRAIN FRAC:100.00  VALID CE:4.903893  VALID FRAC:92.00\n",
      "ITERATION: 128  TRAIN NLOGL:-14.03  TRAIN CE:8.836531 TRAIN FRAC:100.00  VALID CE:4.895461  VALID FRAC:92.00\n",
      "ITERATION: 129  TRAIN NLOGL:-13.95  TRAIN CE:8.790790 TRAIN FRAC:100.00  VALID CE:4.887156  VALID FRAC:92.00\n",
      "ITERATION: 130  TRAIN NLOGL:-13.88  TRAIN CE:8.745566 TRAIN FRAC:100.00  VALID CE:4.878975  VALID FRAC:92.00\n",
      "ITERATION: 131  TRAIN NLOGL:-13.81  TRAIN CE:8.700850 TRAIN FRAC:100.00  VALID CE:4.870915  VALID FRAC:92.00\n",
      "ITERATION: 132  TRAIN NLOGL:-13.74  TRAIN CE:8.656633 TRAIN FRAC:100.00  VALID CE:4.862973  VALID FRAC:92.00\n",
      "ITERATION: 133  TRAIN NLOGL:-13.67  TRAIN CE:8.612905 TRAIN FRAC:100.00  VALID CE:4.855148  VALID FRAC:92.00\n",
      "ITERATION: 134  TRAIN NLOGL:-13.60  TRAIN CE:8.569658 TRAIN FRAC:100.00  VALID CE:4.847436  VALID FRAC:92.00\n",
      "ITERATION: 135  TRAIN NLOGL:-13.54  TRAIN CE:8.526884 TRAIN FRAC:100.00  VALID CE:4.839837  VALID FRAC:92.00\n",
      "ITERATION: 136  TRAIN NLOGL:-13.47  TRAIN CE:8.484574 TRAIN FRAC:100.00  VALID CE:4.832346  VALID FRAC:92.00\n",
      "ITERATION: 137  TRAIN NLOGL:-13.40  TRAIN CE:8.442720 TRAIN FRAC:100.00  VALID CE:4.824963  VALID FRAC:92.00\n",
      "ITERATION: 138  TRAIN NLOGL:-13.34  TRAIN CE:8.401314 TRAIN FRAC:100.00  VALID CE:4.817685  VALID FRAC:92.00\n",
      "ITERATION: 139  TRAIN NLOGL:-13.27  TRAIN CE:8.360348 TRAIN FRAC:100.00  VALID CE:4.810510  VALID FRAC:92.00\n",
      "ITERATION: 140  TRAIN NLOGL:-13.21  TRAIN CE:8.319815 TRAIN FRAC:100.00  VALID CE:4.803437  VALID FRAC:92.00\n",
      "ITERATION: 141  TRAIN NLOGL:-13.14  TRAIN CE:8.279708 TRAIN FRAC:100.00  VALID CE:4.796462  VALID FRAC:92.00\n",
      "ITERATION: 142  TRAIN NLOGL:-13.08  TRAIN CE:8.240019 TRAIN FRAC:100.00  VALID CE:4.789585  VALID FRAC:92.00\n",
      "ITERATION: 143  TRAIN NLOGL:-13.02  TRAIN CE:8.200742 TRAIN FRAC:100.00  VALID CE:4.782803  VALID FRAC:92.00\n",
      "ITERATION: 144  TRAIN NLOGL:-12.96  TRAIN CE:8.161869 TRAIN FRAC:100.00  VALID CE:4.776115  VALID FRAC:92.00\n",
      "ITERATION: 145  TRAIN NLOGL:-12.90  TRAIN CE:8.123393 TRAIN FRAC:100.00  VALID CE:4.769518  VALID FRAC:92.00\n",
      "ITERATION: 146  TRAIN NLOGL:-12.83  TRAIN CE:8.085309 TRAIN FRAC:100.00  VALID CE:4.763012  VALID FRAC:92.00\n",
      "ITERATION: 147  TRAIN NLOGL:-12.77  TRAIN CE:8.047610 TRAIN FRAC:100.00  VALID CE:4.756594  VALID FRAC:92.00\n",
      "ITERATION: 148  TRAIN NLOGL:-12.72  TRAIN CE:8.010290 TRAIN FRAC:100.00  VALID CE:4.750263  VALID FRAC:92.00\n",
      "ITERATION: 149  TRAIN NLOGL:-12.66  TRAIN CE:7.973342 TRAIN FRAC:100.00  VALID CE:4.744017  VALID FRAC:92.00\n",
      "ITERATION: 150  TRAIN NLOGL:-12.60  TRAIN CE:7.936760 TRAIN FRAC:100.00  VALID CE:4.737855  VALID FRAC:92.00\n"
     ]
    },
    {
     "data": {
      "image/png": "[encoded data removed]",
      "text/plain": [
       "<Figure size 432x288 with 1 Axes>"
      ]
     },
     "metadata": {
      "needs_background": "light"
     },
     "output_type": "display_data"
    },
    {
     "data": {
      "image/png": "[encoded data removed]",
      "text/plain": [
       "<Figure size 432x288 with 1 Axes>"
      ]
     },
     "metadata": {
      "needs_background": "light"
     },
     "output_type": "display_data"
    }
   ],
   "source": [
    "run_logistic_regression(0.1, 150)"
   ]
  }
 ],
 "metadata": {
  "kernelspec": {
   "display_name": "Python 3",
   "language": "python",
   "name": "python3"
  },
  "language_info": {
   "codemirror_mode": {
    "name": "ipython",
    "version": 3
   },
   "file_extension": ".py",
   "mimetype": "text/x-python",
   "name": "python",
   "nbconvert_exporter": "python",
   "pygments_lexer": "ipython3",
   "version": "3.7.3"
  }
 },
 "nbformat": 4,
 "nbformat_minor": 2
}
