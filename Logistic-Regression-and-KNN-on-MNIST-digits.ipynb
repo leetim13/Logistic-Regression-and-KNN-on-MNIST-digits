{
 "cells": [
  {
   "cell_type": "markdown",
   "metadata": {},
   "source": [
    "# Comparison of (penalized) Logistic Regression and K-Nearest-Neighbors (KNN) on MNIST digits"
   ]
  },
  {
   "cell_type": "markdown",
   "metadata": {},
   "source": [
    "This mini project will compare the performance. characteristics, and implementations of the two commonly used classifiers, namely Logistic Regression and k-Nearest Neighbors. The data we will be working with are hand-written MNIST digit of 4s and 9s, represented as `28x28` pixel arrays. There will be two training sets: `mnist_train`, which contains 80 examples of each class, and `mnist_train_small`, which contains 5 examples of each class. There is also a validation set `mnist_valid` that we will use for model selection, and a test set `mnist_test` for the final testing."
   ]
  },
  {
   "cell_type": "markdown",
   "metadata": {},
   "source": [
    "## KNN Implementation"
   ]
  },
  {
   "cell_type": "code",
   "execution_count": 1,
   "metadata": {},
   "outputs": [],
   "source": [
    "#setup\n",
    "import numpy as np\n",
    "import matplotlib.pyplot as plt\n",
    "import math"
   ]
  },
  {
   "cell_type": "markdown",
   "metadata": {},
   "source": [
    "Implement the function that computes the Euclidean distance matrix between the image $a$ and $b$."
   ]
  },
  {
   "cell_type": "code",
   "execution_count": 2,
   "metadata": {},
   "outputs": [],
   "source": [
    "def l2_distance(a, b):\n",
    "    if a.shape[0] != b.shape[0]:\n",
    "        raise ValueError(\"A and B should be of same dimensionality\")\n",
    "    aa = np.sum(a**2, axis=0)\n",
    "    bb = np.sum(b**2, axis=0)\n",
    "    ab = np.dot(a.T, b)\n",
    "    return np.sqrt(aa[:, np.newaxis] + bb[np.newaxis, :] - 2*ab)"
   ]
  },
  {
   "cell_type": "markdown",
   "metadata": {},
   "source": [
    "Load the MNIST digits datasets."
   ]
  },
  {
   "cell_type": "code",
   "execution_count": 3,
   "metadata": {},
   "outputs": [],
   "source": [
    "def load_train():\n",
    "    \"\"\"Loads training data.\"\"\"\n",
    "    with open('mnist_train.npz', 'rb') as f:\n",
    "        train_set = np.load(f)\n",
    "        train_inputs = train_set['train_inputs']\n",
    "        train_targets = train_set['train_targets']\n",
    "    return train_inputs, train_targets \n",
    "\n",
    "def load_train_small():\n",
    "    \"\"\"Loads small training data.\"\"\"\n",
    "    with open('mnist_train_small.npz', 'rb') as f:\n",
    "        train_set_small = np.load(f)\n",
    "        train_inputs_small = train_set_small['train_inputs_small']\n",
    "        train_targets_small = train_set_small['train_targets_small']\n",
    "    return train_inputs_small, train_targets_small\n",
    "\n",
    "def load_valid():\n",
    "    \"\"\"Loads validation data.\"\"\"\n",
    "    with open('mnist_valid.npz', 'rb') as f:\n",
    "        valid_set = np.load(f)\n",
    "        valid_inputs = valid_set['valid_inputs']\n",
    "        valid_targets = valid_set['valid_targets']\n",
    "    return valid_inputs, valid_targets \n",
    "\n",
    "def load_test():\n",
    "    \"\"\"Loads test data.\"\"\"\n",
    "    with open('mnist_test.npz', 'rb') as f:\n",
    "        test_set = np.load(f)\n",
    "        test_inputs = test_set['test_inputs']\n",
    "        test_targets = test_set['test_targets']\n",
    "    return test_inputs, test_targets "
   ]
  },
  {
   "cell_type": "markdown",
   "metadata": {},
   "source": [
    "Implement `extract_digits` that returns a list of 28 x 28 pixel intensity arrays starting at `start_index` and ending at `end_index`."
   ]
  },
  {
   "cell_type": "code",
   "execution_count": 4,
   "metadata": {},
   "outputs": [],
   "source": [
    "def extract_digits(digit_array, start_index, end_index):\n",
    "    digits = []\n",
    "    for index in range(int(start_index), int(end_index)):\n",
    "        digits.append(extract_digit_pixels(digit_array, index))\n",
    "    return digits"
   ]
  },
  {
   "cell_type": "markdown",
   "metadata": {},
   "source": [
    "Extracts the 28 x 28 pixel intensity array at the specified index."
   ]
  },
  {
   "cell_type": "code",
   "execution_count": 5,
   "metadata": {},
   "outputs": [],
   "source": [
    "def extract_digit_pixels(digit_array, index):\n",
    "    return digit_array[index].reshape(28, 28)"
   ]
  },
  {
   "cell_type": "markdown",
   "metadata": {},
   "source": [
    "Displays two rows of digits on the screen."
   ]
  },
  {
   "cell_type": "code",
   "execution_count": 6,
   "metadata": {},
   "outputs": [],
   "source": [
    "def show_pane(top_digits, bottom_digits):\n",
    "    all_digits = top_digits + bottom_digits\n",
    "    fig, axes = plt.subplots(nrows = 2, ncols = len(all_digits)//2)\n",
    "    for axis, digit in zip(axes.reshape(-1), all_digits):\n",
    "        axis.imshow(digit, interpolation='nearest', cmap=plt.gray())\n",
    "        axis.axis('off')\n",
    "    plt.show()"
   ]
  },
  {
   "cell_type": "markdown",
   "metadata": {},
   "source": [
    "Implement the function `plot_digits` to visualizes each example in `digit_array`."
   ]
  },
  {
   "cell_type": "code",
   "execution_count": 7,
   "metadata": {},
   "outputs": [],
   "source": [
    "def plot_digits(digit_array):\n",
    "    \"\"\"\n",
    "    Note: N is the number of examples \n",
    "          and M is the number of features per example.\n",
    "    Inputs:\n",
    "        digits: N x M array of pixel intensities.\n",
    "    \"\"\"\n",
    "    CLASS_EXAMPLES_PER_PANE = 5\n",
    "\n",
    "    # assume two evenly split classes\n",
    "    examples_per_class = digit_array.shape[0]/2\n",
    "    num_panes = int(np.ceil(float(examples_per_class)/CLASS_EXAMPLES_PER_PANE))\n",
    "\n",
    "    for pane in range(num_panes):\n",
    "        print(\"Displaying pane {}/{}\".format(pane+1, num_panes))\n",
    "\n",
    "        top_start = pane*CLASS_EXAMPLES_PER_PANE\n",
    "        top_end = min((pane+1)*CLASS_EXAMPLES_PER_PANE, examples_per_class)\n",
    "        top_pane_digits = extract_digits(digit_array, top_start, top_end)\n",
    "\n",
    "        bottom_start = top_start + examples_per_class\n",
    "        bottom_end = top_end + examples_per_class\n",
    "        bottom_pane_digits = extract_digits(digit_array, bottom_start, bottom_end)\n",
    "        show_pane(top_pane_digits, bottom_pane_digits)"
   ]
  },
  {
   "cell_type": "markdown",
   "metadata": {},
   "source": [
    "Example of plotting a digit from `load_train_small`"
   ]
  },
  {
   "cell_type": "code",
   "execution_count": 8,
   "metadata": {},
   "outputs": [
    {
     "name": "stdout",
     "output_type": "stream",
     "text": [
      "Displaying pane 1/1\n"
     ]
    },
    {
     "data": {
      "image/png": "[encoded data removed]",
      "text/plain": [
       "<Figure size 432x288 with 10 Axes>"
      ]
     },
     "metadata": {
      "needs_background": "light"
     },
     "output_type": "display_data"
    }
   ],
   "source": [
    "plot_digits(load_train_small()[0])"
   ]
  },
  {
   "cell_type": "markdown",
   "metadata": {},
   "source": [
    "Corresponding lables of `load_train_small`"
   ]
  },
  {
   "cell_type": "code",
   "execution_count": 9,
   "metadata": {},
   "outputs": [
    {
     "data": {
      "text/plain": [
       "array([[0.],\n",
       "       [0.],\n",
       "       [0.],\n",
       "       [0.],\n",
       "       [0.],\n",
       "       [1.],\n",
       "       [1.],\n",
       "       [1.],\n",
       "       [1.],\n",
       "       [1.]])"
      ]
     },
     "execution_count": 9,
     "metadata": {},
     "output_type": "execute_result"
    }
   ],
   "source": [
    "load_train_small()[1]"
   ]
  },
  {
   "cell_type": "markdown",
   "metadata": {},
   "source": [
    "## KNN Execution"
   ]
  },
  {
   "cell_type": "markdown",
   "metadata": {},
   "source": [
    "Implement the main function for KNN, `run_knn` that uses the supplied training inputs and labels to make predictions for validation data using the K-nearest neighbours algorithm."
   ]
  },
  {
   "cell_type": "code",
   "execution_count": 10,
   "metadata": {},
   "outputs": [],
   "source": [
    "def run_knn(k, train_data, train_labels, valid_data):\n",
    "    \"\"\"\n",
    "    Note: N_TRAIN is the number of training examples,\n",
    "          N_VALID is the number of validation examples, \n",
    "          and M is the number of features per example.\n",
    "    Inputs:\n",
    "        k:            The number of neighbours to use for classification \n",
    "                      of a validation example.\n",
    "        train_data:   The N_TRAIN x M array of training\n",
    "                      data.\n",
    "        train_labels: The N_TRAIN x 1 vector of training labels\n",
    "                      corresponding to the examples in train_data \n",
    "                      (must be binary).\n",
    "        valid_data:   The N_VALID x M array of data to\n",
    "                      predict classes for.\n",
    "    Outputs:\n",
    "        valid_labels: The N_VALID x 1 vector of predicted labels \n",
    "                      for the validation data.\n",
    "    \"\"\"\n",
    "\n",
    "    dist = l2_distance(valid_data.T, train_data.T)\n",
    "    nearest = np.argsort(dist, axis=1)[:,:k]\n",
    "\n",
    "    train_labels = train_labels.reshape(-1)\n",
    "    valid_labels = train_labels[nearest]\n",
    "\n",
    "    # note this only works for binary labels\n",
    "    valid_labels = (np.mean(valid_labels, axis=1) >= 0.5).astype(np.int)\n",
    "    valid_labels = valid_labels.reshape(-1,1)\n",
    "\n",
    "    return valid_labels"
   ]
  },
  {
   "cell_type": "markdown",
   "metadata": {},
   "source": [
    "Run `kNN` for different values of $k \\in \\{1, 3, 5, 7, 9\\}$ and plot the classification rate on the validation set (number of correctly predicted cases, divided by total number of data points) as a function of `k`."
   ]
  },
  {
   "cell_type": "code",
   "execution_count": 11,
   "metadata": {},
   "outputs": [],
   "source": [
    "train_inputs, train_targets = load_train()\n",
    "valid_inputs, valid_targets = load_valid()\n",
    "test_inputs, test_targets = load_test()\n",
    "\n",
    "set_k = [1,3,5,7,9]\n",
    "\n",
    "accuracy_valid_output = {}\n",
    "accuracy_test_output = {}\n",
    "\n",
    "length_valid = len(valid_inputs)\n",
    "length_test = len(test_inputs)\n",
    "for k in set_k:\n",
    "    valid_outputs = run_knn(k, train_inputs, train_targets, valid_inputs)\n",
    "    test_outputs =  run_knn(k, train_inputs, train_targets, test_inputs)\n",
    "\n",
    "    count_valid = np.sum(valid_outputs == valid_targets) \n",
    "    accuracy_valid = count_valid/length_valid\n",
    "    accuracy_valid_output[\"k=\"+str(k)] = accuracy_valid\n",
    "\n",
    "    count_test = np.sum(test_outputs == test_targets) \n",
    "    accuracy_test = count_test/length_test\n",
    "    accuracy_test_output[\"k=\"+str(k)] = accuracy_test"
   ]
  },
  {
   "cell_type": "markdown",
   "metadata": {},
   "source": [
    "Validation Accuracy:"
   ]
  },
  {
   "cell_type": "code",
   "execution_count": 12,
   "metadata": {},
   "outputs": [
    {
     "data": {
      "text/plain": [
       "{'k=1': 0.82, 'k=3': 0.86, 'k=5': 0.86, 'k=7': 0.86, 'k=9': 0.84}"
      ]
     },
     "execution_count": 12,
     "metadata": {},
     "output_type": "execute_result"
    }
   ],
   "source": [
    "accuracy_valid_output"
   ]
  },
  {
   "cell_type": "markdown",
   "metadata": {},
   "source": [
    "Test Accuracy:"
   ]
  },
  {
   "cell_type": "code",
   "execution_count": 13,
   "metadata": {},
   "outputs": [
    {
     "data": {
      "text/plain": [
       "{'k=1': 0.88, 'k=3': 0.92, 'k=5': 0.94, 'k=7': 0.94, 'k=9': 0.88}"
      ]
     },
     "execution_count": 13,
     "metadata": {},
     "output_type": "execute_result"
    }
   ],
   "source": [
    "accuracy_test_output"
   ]
  },
  {
   "cell_type": "code",
   "execution_count": 14,
   "metadata": {},
   "outputs": [
    {
     "data": {
      "image/png": "[encoded data removed]",
      "text/plain": [
       "<Figure size 432x288 with 1 Axes>"
      ]
     },
     "metadata": {
      "needs_background": "light"
     },
     "output_type": "display_data"
    }
   ],
   "source": [
    "plt.plot(set_k, list(accuracy_valid_output.values()), label=\"validation rate\")\n",
    "plt.plot(set_k, list(accuracy_test_output.values()), label=\"test rate\")\n",
    "\n",
    "plt.title(\"Test VS Validation Classification Rate\")\n",
    "plt.xlabel(\"k\")\n",
    "plt.ylabel(\"Accuracy/Classification Rate\")\n",
    "plt.legend()\n",
    "plt.savefig(\"Test Set VS Validation Rates of KNN.png\")"
   ]
  },
  {
   "cell_type": "markdown",
   "metadata": {},
   "source": [
    "### Comments on the performance and which value of k* to choose from:"
   ]
  },
  {
   "cell_type": "markdown",
   "metadata": {},
   "source": [
    "Although the $k$ value of $5$ and $7$ has the same classification rate for both test and validation data set, I would choose $k^*$ to be $5$. This is because having choosing $k^* = 5$, $k^*-2 = 3$ and $k^*+2 = 7$ also outputs the highest classification rate (for both test and validation) compared to all other values for $k^*$. This might suggest that this value of $k^*$ would also perform better in different data sets (as shown by the figure above).\n",
    "\n",
    "However, the classification rate for validation and test set does not correspond, for example, for $k=3$ and $k=5$, they both have the classification rate of $0.86$ on validation set, the performance on test set is $0.92$ and $0.94$, respectively. This is likely to be caused by the different labelled data set provided to training and validation data (since both their sample size is 50 while the sample size for training set is 160). This causes the classification rate for test set to be consistently higher than that of all validation set."
   ]
  },
  {
   "cell_type": "markdown",
   "metadata": {},
   "source": [
    "## Logisitic Regression"
   ]
  },
  {
   "cell_type": "markdown",
   "metadata": {},
   "source": [
    "Now, we will perform the experiment with the same MNIST datasets using logisitic regression on both `mnist_train` and `mnist_train_small` datasets, and attempt to choose the best hyperparameters for the `learning rate`, the `number of iterations`, and the way in which we initialize the `weights`."
   ]
  },
  {
   "cell_type": "markdown",
   "metadata": {},
   "source": [
    "Computes the element wise logistic sigmoid of $x$."
   ]
  },
  {
   "cell_type": "code",
   "execution_count": 15,
   "metadata": {},
   "outputs": [],
   "source": [
    "def sigmoid(x):\n",
    "    \"\"\"\n",
    "    Inputs:\n",
    "        x: Either a row vector or a column vector.\n",
    "    \"\"\"\n",
    "    return 1.0 / (1.0 + np.exp(-x))"
   ]
  },
  {
   "cell_type": "markdown",
   "metadata": {},
   "source": [
    "Implement the `logistic_predict` function to compute the probabilities predicted by the logistic classifier."
   ]
  },
  {
   "cell_type": "code",
   "execution_count": 16,
   "metadata": {},
   "outputs": [],
   "source": [
    "def logistic_predict(weights, data):\n",
    "    \"\"\"\n",
    "    Note: N is the number of examples and\n",
    "          M is the number of features per example.\n",
    "\n",
    "    Inputs:\n",
    "        weights:    (M+1) x 1 vector of weights, where the last element\n",
    "                    corresponds to the bias (intercepts).\n",
    "        data:       N x M data matrix where each row corresponds\n",
    "                    to one data point.\n",
    "    Outputs:\n",
    "        y:          :N x 1 vector of probabilities. This is the output of the classifier.\n",
    "    \"\"\"\n",
    "    b = weights[-1]\n",
    "    y = sigmoid(np.dot(data, weights[:-1]) + b)\n",
    "    return y"
   ]
  },
  {
   "cell_type": "markdown",
   "metadata": {},
   "source": [
    "Compute evaluation metrics."
   ]
  },
  {
   "cell_type": "code",
   "execution_count": 17,
   "metadata": {},
   "outputs": [],
   "source": [
    "def evaluate(targets, y):\n",
    "    \"\"\"\n",
    "    Inputs:\n",
    "        targets : N x 1 vector of targets.\n",
    "        y       : N x 1 vector of probabilities.\n",
    "    Outputs:\n",
    "        ce           : (scalar) Cross entropy. CE(p, q) = E_p[-log q]. Here we want to compute CE(targets, y)\n",
    "        frac_correct : (scalar) Fraction of inputs classified correctly.\n",
    "    \"\"\"\n",
    "    ce = - np.dot(np.transpose(targets), np.log(y)) #\n",
    "    frac_correct = (targets == (y > 0.5)).mean()  #\n",
    "    return ce, frac_correct"
   ]
  },
  {
   "cell_type": "markdown",
   "metadata": {},
   "source": [
    "Calculate negative log likelihood and its derivatives with respect to weights and also return the predictions."
   ]
  },
  {
   "cell_type": "code",
   "execution_count": 18,
   "metadata": {},
   "outputs": [],
   "source": [
    "def logistic(weights, data, targets, hyperparameters):\n",
    "    \"\"\"\n",
    "    Note: N is the number of examples and\n",
    "          M is the number of features per example.\n",
    "    Inputs:\n",
    "        weights:    (M+1) x 1 vector of weights, where the last element\n",
    "                    corresponds to bias (intercepts).\n",
    "        data:       N x M data matrix where each row corresponds\n",
    "                    to one data point.\n",
    "        targets:    N x 1 vector of targets class probabilities.\n",
    "        hyperparameters: The hyperparameters dictionary.\n",
    "    Outputs:\n",
    "        f:       The sum of the loss over all data points. This is the objective that we want to minimize.\n",
    "        df:      (M+1) x 1 vector of derivative of f w.r.t. weights.\n",
    "        y:       N x 1 vector of probabilities.\n",
    "    \"\"\"  \n",
    "    y = logistic_predict(weights, data) #after sigmoid transformation\n",
    "    #compute f and df without regularization\n",
    "    f = 0\n",
    "    for i in range(len(y)): #y is vector of n elements\n",
    "        f += (-targets[i]*math.log(y[i])) - (1-targets[i])*math.log(1-y[i]) #by formula of L_CE\n",
    "        \n",
    "    product = data.T.dot(y-targets)\n",
    "    #add vector of sum([y-targets]) to the last row to make df to size (M+1) x 1\n",
    "    df = np.append(product, [[np.sum(y-targets)]], axis = 0) \n",
    "    return f, df, y"
   ]
  },
  {
   "cell_type": "markdown",
   "metadata": {},
   "source": [
    "Performs a simple gradient check on logistic function."
   ]
  },
  {
   "cell_type": "code",
   "execution_count": 19,
   "metadata": {},
   "outputs": [],
   "source": [
    "def check_grad(func, X, epsilon, *args):\n",
    "    \"\"\"\n",
    "    checks the derivatives in a function, by comparing them to finite\n",
    "    differences approximations. The partial derivatives and the approximation\n",
    "    are printed and the norm of the diffrence divided by the norm of the sum is\n",
    "    returned as an indication of accuracy.\n",
    "    usage: checkgrad(func, X, epsilon, P1, P2, ...)\n",
    "    where X is the argument and epsilon is the small perturbation used for the finite\n",
    "    differences. and the P1, P2, ... are optional additional parameters which\n",
    "    get passed to f. The function f should be of the type\n",
    "    (fX, dfX) = func(X, P1, P2, ...)\n",
    "    where fX is the function value and dfX is a vector of partial derivatives.\n",
    "    Original Author: Carl Edward Rasmussen, 2001-08-01.\n",
    "    Ported to Python 2.7 by JCS (9/21/2013).\n",
    "    \"\"\"\n",
    "    if len(X.shape) != 2 or X.shape[1] != 1:\n",
    "        raise ValueError(\"X must be a vector\")\n",
    "    y, dy, = func(X, *args)[:2]         # get the partial derivatives dy\n",
    "    dh = np.zeros((len(X), 1))\n",
    "    for j in range(len(X)):\n",
    "        dx = np.zeros((len(X), 1))\n",
    "        dx[j] += epsilon\n",
    "        y2 = func(X+dx, *args)[0]\n",
    "        dx = -dx\n",
    "        y1 = func(X+dx, *args)[0]\n",
    "        dh[j] = (y2 - y1)/(2*epsilon)\n",
    "#     print(np.hstack((dy, dh)))         # print the two vectors\n",
    "    d = np.linalg.norm(dh-dy)/np.linalg.norm(dh+dy)  # return norm of diff divided by norm of sum\n",
    "    return d\n",
    "\n",
    "def run_check_grad(hyperparameters):\n",
    "    # This creates small random data with 20 examples and\n",
    "    # 10 dimensions and checks the gradient on that data.\n",
    "    num_examples = 20\n",
    "    num_dimensions = 10\n",
    "    weights = np.random.randn(num_dimensions+1, 1)\n",
    "    data    = np.random.randn(num_examples, num_dimensions)\n",
    "    targets = np.random.rand(num_examples, 1)\n",
    "\n",
    "    diff = check_grad(logistic,      # function to check\n",
    "                      weights,\n",
    "                      0.001,         # perturbation\n",
    "                      data,\n",
    "                      targets,\n",
    "                      hyperparameters)\n",
    "    print(\"check_grad diff (should be close to 0)=\", diff)"
   ]
  },
  {
   "cell_type": "markdown",
   "metadata": {},
   "source": [
    "## Execution"
   ]
  },
  {
   "cell_type": "code",
   "execution_count": 24,
   "metadata": {},
   "outputs": [],
   "source": [
    "def run_logistic_regression(learning_rate, num_iterations, stats_on=True):\n",
    "    train_inputs, train_targets = load_train()\n",
    "    #train_inputs, train_targets = load_train_small()\n",
    "    valid_inputs, valid_targets = load_valid()\n",
    "    N, M = train_inputs.shape\n",
    "\n",
    "    # Set hyperparameters\n",
    "    hyperparameters = {\n",
    "                    'learning_rate': learning_rate,\n",
    "                    'num_iterations':num_iterations\n",
    "                 }\n",
    "\n",
    "    # Logistic regression weights\n",
    "    # Initialize to random weights here.\n",
    "    weights = np.random.randn(M + 1, 1) /10\n",
    "\n",
    "    # Verify that your logistic function produces the right gradient.\n",
    "    # diff should be very close to 0.\n",
    "    run_check_grad(hyperparameters)\n",
    "\n",
    "    ce_train = []\n",
    "    ce_test = []\n",
    "    fc_train = []\n",
    "    fc_test = []\n",
    "\n",
    "    # Begin learning with gradient descent\n",
    "    for t in range(hyperparameters['num_iterations']):\n",
    "\n",
    "        # Find the negative log likelihood and its derivatives w.r.t. the weights.\n",
    "        f, df, predictions = logistic(weights, train_inputs, train_targets, hyperparameters)\n",
    "\n",
    "        # Evaluate the prediction.\n",
    "        cross_entropy_train, frac_correct_train = evaluate(train_targets, predictions)\n",
    "\n",
    "        if np.isnan(f) or np.isinf(f):\n",
    "            raise ValueError(\"nan/inf error\")\n",
    "\n",
    "        # update parameters\n",
    "        weights = weights - hyperparameters['learning_rate'] * df / N\n",
    "\n",
    "        # Make a prediction on the valid_inputs.\n",
    "        predictions_valid = logistic_predict(weights, valid_inputs)\n",
    "\n",
    "        # Evaluate the prediction.\n",
    "        cross_entropy_valid, frac_correct_valid = evaluate(valid_targets, predictions_valid)\n",
    "\n",
    "        # print stats if stats_on is True\n",
    "        if stats_on:\n",
    "            print((\"ITERATION:{:4d}  TRAIN NLOGL:{:4.2f}  TRAIN CE:{:.6f} \"\n",
    "                   \"TRAIN FRAC:{:2.2f}  VALID CE:{:.6f}  VALID FRAC:{:2.2f}\").format(\n",
    "                       (t+1), float(f / N), float(cross_entropy_train), float(frac_correct_train*100),\n",
    "                       float(cross_entropy_valid), float(frac_correct_valid*100)))\n",
    "\n",
    "        ce_train = np.append(ce_train, cross_entropy_train)\n",
    "        ce_test = np.append(ce_test, cross_entropy_valid)\n",
    "        fc_train = np.append(fc_train, frac_correct_train)\n",
    "        fc_test = np.append(fc_test, frac_correct_valid)\n",
    "\n",
    "    plt.plot(ce_train, label = \"training set\")\n",
    "    plt.plot(ce_test, label = \"validation set\")\n",
    "    plt.title(\"Cross Entropy with small training set using \\n learning rate \"+ str(hyperparameters['learning_rate'])+\n",
    "              \" and \" + str(hyperparameters['num_iterations']) + \" iterations\")\n",
    "    plt.legend()\n",
    "    plt.show()\n",
    "    plt.plot(fc_train, label = \"training set\")\n",
    "    plt.plot(fc_test, label = \"validation set\")\n",
    "    plt.title(\"Fraction Correctness with small training set using \\n learning rate \"+ str(hyperparameters['learning_rate'])+\n",
    "          \" and \" + str(hyperparameters['num_iterations']) + \" iterations\")\n",
    "    plt.show()"
   ]
  },
  {
   "cell_type": "code",
   "execution_count": 27,
   "metadata": {},
   "outputs": [
    {
     "name": "stdout",
     "output_type": "stream",
     "text": [
      "check_grad diff (should be close to 0)= 3.04676333994148e-08\n",
      "ITERATION:   1  TRAIN NLOGL:-137.06  TRAIN CE:86.155736 TRAIN FRAC:48.75  VALID CE:15.886249  VALID FRAC:50.00\n",
      "ITERATION:   2  TRAIN NLOGL:-87.59  TRAIN CE:55.170855 TRAIN FRAC:54.37  VALID CE:14.184866  VALID FRAC:66.00\n",
      "ITERATION:   3  TRAIN NLOGL:-77.78  TRAIN CE:49.004090 TRAIN FRAC:61.88  VALID CE:13.322729  VALID FRAC:76.00\n",
      "ITERATION:   4  TRAIN NLOGL:-72.41  TRAIN CE:45.621937 TRAIN FRAC:69.38  VALID CE:12.635983  VALID FRAC:78.00\n",
      "ITERATION:   5  TRAIN NLOGL:-68.03  TRAIN CE:42.868673 TRAIN FRAC:75.62  VALID CE:12.057443  VALID FRAC:76.00\n",
      "ITERATION:   6  TRAIN NLOGL:-64.31  TRAIN CE:40.522074 TRAIN FRAC:77.50  VALID CE:11.562841  VALID FRAC:80.00\n",
      "ITERATION:   7  TRAIN NLOGL:-61.10  TRAIN CE:38.497325 TRAIN FRAC:80.00  VALID CE:11.135094  VALID FRAC:80.00\n",
      "ITERATION:   8  TRAIN NLOGL:-58.29  TRAIN CE:36.732715 TRAIN FRAC:81.88  VALID CE:10.761137  VALID FRAC:80.00\n",
      "ITERATION:   9  TRAIN NLOGL:-55.83  TRAIN CE:35.180010 TRAIN FRAC:85.00  VALID CE:10.430912  VALID FRAC:80.00\n",
      "ITERATION:  10  TRAIN NLOGL:-53.64  TRAIN CE:33.801410 TRAIN FRAC:85.00  VALID CE:10.136645  VALID FRAC:80.00\n",
      "ITERATION:  11  TRAIN NLOGL:-51.68  TRAIN CE:32.567237 TRAIN FRAC:86.25  VALID CE:9.872279  VALID FRAC:80.00\n",
      "ITERATION:  12  TRAIN NLOGL:-49.91  TRAIN CE:31.454063 TRAIN FRAC:86.25  VALID CE:9.633050  VALID FRAC:80.00\n",
      "ITERATION:  13  TRAIN NLOGL:-48.31  TRAIN CE:30.443247 TRAIN FRAC:85.62  VALID CE:9.415172  VALID FRAC:80.00\n",
      "ITERATION:  14  TRAIN NLOGL:-46.84  TRAIN CE:29.519828 TRAIN FRAC:86.25  VALID CE:9.215601  VALID FRAC:80.00\n",
      "ITERATION:  15  TRAIN NLOGL:-45.50  TRAIN CE:28.671677 TRAIN FRAC:86.25  VALID CE:9.031866  VALID FRAC:80.00\n",
      "ITERATION:  16  TRAIN NLOGL:-44.26  TRAIN CE:27.888873 TRAIN FRAC:87.50  VALID CE:8.861939  VALID FRAC:80.00\n",
      "ITERATION:  17  TRAIN NLOGL:-43.10  TRAIN CE:27.163220 TRAIN FRAC:88.12  VALID CE:8.704139  VALID FRAC:80.00\n",
      "ITERATION:  18  TRAIN NLOGL:-42.03  TRAIN CE:26.487893 TRAIN FRAC:89.38  VALID CE:8.557059  VALID FRAC:82.00\n",
      "ITERATION:  19  TRAIN NLOGL:-41.03  TRAIN CE:25.857159 TRAIN FRAC:89.38  VALID CE:8.419514  VALID FRAC:82.00\n",
      "ITERATION:  20  TRAIN NLOGL:-40.09  TRAIN CE:25.266163 TRAIN FRAC:89.38  VALID CE:8.290497  VALID FRAC:82.00\n",
      "ITERATION:  21  TRAIN NLOGL:-39.21  TRAIN CE:24.710766 TRAIN FRAC:90.00  VALID CE:8.169146  VALID FRAC:82.00\n",
      "ITERATION:  22  TRAIN NLOGL:-38.38  TRAIN CE:24.187415 TRAIN FRAC:92.50  VALID CE:8.054717  VALID FRAC:82.00\n",
      "ITERATION:  23  TRAIN NLOGL:-37.60  TRAIN CE:23.693042 TRAIN FRAC:92.50  VALID CE:7.946567  VALID FRAC:82.00\n",
      "ITERATION:  24  TRAIN NLOGL:-36.85  TRAIN CE:23.224980 TRAIN FRAC:93.12  VALID CE:7.844133  VALID FRAC:82.00\n",
      "ITERATION:  25  TRAIN NLOGL:-36.15  TRAIN CE:22.780899 TRAIN FRAC:93.75  VALID CE:7.746924  VALID FRAC:84.00\n",
      "ITERATION:  26  TRAIN NLOGL:-35.48  TRAIN CE:22.358755 TRAIN FRAC:95.00  VALID CE:7.654505  VALID FRAC:84.00\n",
      "ITERATION:  27  TRAIN NLOGL:-34.84  TRAIN CE:21.956742 TRAIN FRAC:95.00  VALID CE:7.566493  VALID FRAC:84.00\n",
      "ITERATION:  28  TRAIN NLOGL:-34.23  TRAIN CE:21.573262 TRAIN FRAC:95.00  VALID CE:7.482547  VALID FRAC:84.00\n",
      "ITERATION:  29  TRAIN NLOGL:-33.65  TRAIN CE:21.206891 TRAIN FRAC:95.62  VALID CE:7.402362  VALID FRAC:84.00\n",
      "ITERATION:  30  TRAIN NLOGL:-33.10  TRAIN CE:20.856359 TRAIN FRAC:95.62  VALID CE:7.325666  VALID FRAC:84.00\n",
      "ITERATION:  31  TRAIN NLOGL:-32.56  TRAIN CE:20.520526 TRAIN FRAC:96.25  VALID CE:7.252214  VALID FRAC:84.00\n",
      "ITERATION:  32  TRAIN NLOGL:-32.05  TRAIN CE:20.198366 TRAIN FRAC:96.25  VALID CE:7.181784  VALID FRAC:84.00\n",
      "ITERATION:  33  TRAIN NLOGL:-31.56  TRAIN CE:19.888954 TRAIN FRAC:96.88  VALID CE:7.114178  VALID FRAC:84.00\n",
      "ITERATION:  34  TRAIN NLOGL:-31.09  TRAIN CE:19.591451 TRAIN FRAC:96.88  VALID CE:7.049213  VALID FRAC:86.00\n",
      "ITERATION:  35  TRAIN NLOGL:-30.64  TRAIN CE:19.305096 TRAIN FRAC:96.88  VALID CE:6.986724  VALID FRAC:86.00\n",
      "ITERATION:  36  TRAIN NLOGL:-30.20  TRAIN CE:19.029195 TRAIN FRAC:96.88  VALID CE:6.926560  VALID FRAC:86.00\n",
      "ITERATION:  37  TRAIN NLOGL:-29.78  TRAIN CE:18.763117 TRAIN FRAC:96.88  VALID CE:6.868584  VALID FRAC:86.00\n",
      "ITERATION:  38  TRAIN NLOGL:-29.37  TRAIN CE:18.506280 TRAIN FRAC:96.88  VALID CE:6.812669  VALID FRAC:86.00\n",
      "ITERATION:  39  TRAIN NLOGL:-28.97  TRAIN CE:18.258153 TRAIN FRAC:96.88  VALID CE:6.758700  VALID FRAC:86.00\n",
      "ITERATION:  40  TRAIN NLOGL:-28.59  TRAIN CE:18.018248 TRAIN FRAC:96.88  VALID CE:6.706568  VALID FRAC:86.00\n",
      "ITERATION:  41  TRAIN NLOGL:-28.23  TRAIN CE:17.786113 TRAIN FRAC:96.88  VALID CE:6.656175  VALID FRAC:86.00\n",
      "ITERATION:  42  TRAIN NLOGL:-27.87  TRAIN CE:17.561333 TRAIN FRAC:96.88  VALID CE:6.607431  VALID FRAC:86.00\n",
      "ITERATION:  43  TRAIN NLOGL:-27.52  TRAIN CE:17.343522 TRAIN FRAC:96.88  VALID CE:6.560249  VALID FRAC:86.00\n",
      "ITERATION:  44  TRAIN NLOGL:-27.19  TRAIN CE:17.132324 TRAIN FRAC:96.88  VALID CE:6.514552  VALID FRAC:86.00\n",
      "ITERATION:  45  TRAIN NLOGL:-26.86  TRAIN CE:16.927407 TRAIN FRAC:96.88  VALID CE:6.470266  VALID FRAC:86.00\n",
      "ITERATION:  46  TRAIN NLOGL:-26.55  TRAIN CE:16.728464 TRAIN FRAC:96.88  VALID CE:6.427324  VALID FRAC:86.00\n",
      "ITERATION:  47  TRAIN NLOGL:-26.24  TRAIN CE:16.535206 TRAIN FRAC:97.50  VALID CE:6.385661  VALID FRAC:86.00\n",
      "ITERATION:  48  TRAIN NLOGL:-25.94  TRAIN CE:16.347367 TRAIN FRAC:97.50  VALID CE:6.345220  VALID FRAC:86.00\n",
      "ITERATION:  49  TRAIN NLOGL:-25.65  TRAIN CE:16.164695 TRAIN FRAC:97.50  VALID CE:6.305943  VALID FRAC:86.00\n",
      "ITERATION:  50  TRAIN NLOGL:-25.37  TRAIN CE:15.986957 TRAIN FRAC:97.50  VALID CE:6.267780  VALID FRAC:86.00\n",
      "ITERATION:  51  TRAIN NLOGL:-25.10  TRAIN CE:15.813932 TRAIN FRAC:97.50  VALID CE:6.230681  VALID FRAC:86.00\n",
      "ITERATION:  52  TRAIN NLOGL:-24.83  TRAIN CE:15.645416 TRAIN FRAC:97.50  VALID CE:6.194600  VALID FRAC:86.00\n",
      "ITERATION:  53  TRAIN NLOGL:-24.57  TRAIN CE:15.481215 TRAIN FRAC:97.50  VALID CE:6.159496  VALID FRAC:86.00\n",
      "ITERATION:  54  TRAIN NLOGL:-24.31  TRAIN CE:15.321147 TRAIN FRAC:97.50  VALID CE:6.125326  VALID FRAC:86.00\n",
      "ITERATION:  55  TRAIN NLOGL:-24.07  TRAIN CE:15.165041 TRAIN FRAC:97.50  VALID CE:6.092053  VALID FRAC:86.00\n",
      "ITERATION:  56  TRAIN NLOGL:-23.83  TRAIN CE:15.012735 TRAIN FRAC:97.50  VALID CE:6.059641  VALID FRAC:86.00\n",
      "ITERATION:  57  TRAIN NLOGL:-23.59  TRAIN CE:14.864078 TRAIN FRAC:98.12  VALID CE:6.028056  VALID FRAC:86.00\n",
      "ITERATION:  58  TRAIN NLOGL:-23.36  TRAIN CE:14.718925 TRAIN FRAC:98.12  VALID CE:5.997266  VALID FRAC:86.00\n",
      "ITERATION:  59  TRAIN NLOGL:-23.13  TRAIN CE:14.577140 TRAIN FRAC:98.12  VALID CE:5.967240  VALID FRAC:86.00\n",
      "ITERATION:  60  TRAIN NLOGL:-22.91  TRAIN CE:14.438596 TRAIN FRAC:98.12  VALID CE:5.937949  VALID FRAC:86.00\n",
      "ITERATION:  61  TRAIN NLOGL:-22.70  TRAIN CE:14.303170 TRAIN FRAC:98.12  VALID CE:5.909367  VALID FRAC:86.00\n",
      "ITERATION:  62  TRAIN NLOGL:-22.49  TRAIN CE:14.170747 TRAIN FRAC:98.12  VALID CE:5.881466  VALID FRAC:86.00\n",
      "ITERATION:  63  TRAIN NLOGL:-22.28  TRAIN CE:14.041218 TRAIN FRAC:98.12  VALID CE:5.854223  VALID FRAC:86.00\n",
      "ITERATION:  64  TRAIN NLOGL:-22.08  TRAIN CE:13.914478 TRAIN FRAC:98.12  VALID CE:5.827615  VALID FRAC:86.00\n",
      "ITERATION:  65  TRAIN NLOGL:-21.89  TRAIN CE:13.790429 TRAIN FRAC:98.12  VALID CE:5.801618  VALID FRAC:86.00\n",
      "ITERATION:  66  TRAIN NLOGL:-21.69  TRAIN CE:13.668976 TRAIN FRAC:98.12  VALID CE:5.776212  VALID FRAC:86.00\n",
      "ITERATION:  67  TRAIN NLOGL:-21.51  TRAIN CE:13.550031 TRAIN FRAC:98.12  VALID CE:5.751377  VALID FRAC:86.00\n",
      "ITERATION:  68  TRAIN NLOGL:-21.32  TRAIN CE:13.433508 TRAIN FRAC:98.12  VALID CE:5.727093  VALID FRAC:86.00\n",
      "ITERATION:  69  TRAIN NLOGL:-21.14  TRAIN CE:13.319327 TRAIN FRAC:98.12  VALID CE:5.703342  VALID FRAC:86.00\n",
      "ITERATION:  70  TRAIN NLOGL:-20.96  TRAIN CE:13.207409 TRAIN FRAC:98.12  VALID CE:5.680107  VALID FRAC:86.00\n",
      "ITERATION:  71  TRAIN NLOGL:-20.79  TRAIN CE:13.097682 TRAIN FRAC:98.12  VALID CE:5.657371  VALID FRAC:86.00\n",
      "ITERATION:  72  TRAIN NLOGL:-20.62  TRAIN CE:12.990074 TRAIN FRAC:98.12  VALID CE:5.635117  VALID FRAC:86.00\n",
      "ITERATION:  73  TRAIN NLOGL:-20.45  TRAIN CE:12.884518 TRAIN FRAC:98.12  VALID CE:5.613332  VALID FRAC:86.00\n",
      "ITERATION:  74  TRAIN NLOGL:-20.28  TRAIN CE:12.780951 TRAIN FRAC:98.12  VALID CE:5.591999  VALID FRAC:86.00\n",
      "ITERATION:  75  TRAIN NLOGL:-20.12  TRAIN CE:12.679310 TRAIN FRAC:98.12  VALID CE:5.571106  VALID FRAC:86.00\n",
      "ITERATION:  76  TRAIN NLOGL:-19.97  TRAIN CE:12.579537 TRAIN FRAC:98.12  VALID CE:5.550638  VALID FRAC:86.00\n",
      "ITERATION:  77  TRAIN NLOGL:-19.81  TRAIN CE:12.481575 TRAIN FRAC:98.12  VALID CE:5.530583  VALID FRAC:86.00\n",
      "ITERATION:  78  TRAIN NLOGL:-19.66  TRAIN CE:12.385370 TRAIN FRAC:98.12  VALID CE:5.510929  VALID FRAC:86.00\n",
      "ITERATION:  79  TRAIN NLOGL:-19.51  TRAIN CE:12.290871 TRAIN FRAC:98.12  VALID CE:5.491664  VALID FRAC:86.00\n",
      "ITERATION:  80  TRAIN NLOGL:-19.36  TRAIN CE:12.198027 TRAIN FRAC:98.12  VALID CE:5.472776  VALID FRAC:88.00\n",
      "ITERATION:  81  TRAIN NLOGL:-19.22  TRAIN CE:12.106792 TRAIN FRAC:98.12  VALID CE:5.454255  VALID FRAC:88.00\n",
      "ITERATION:  82  TRAIN NLOGL:-19.07  TRAIN CE:12.017119 TRAIN FRAC:98.12  VALID CE:5.436090  VALID FRAC:88.00\n",
      "ITERATION:  83  TRAIN NLOGL:-18.93  TRAIN CE:11.928965 TRAIN FRAC:98.12  VALID CE:5.418271  VALID FRAC:88.00\n",
      "ITERATION:  84  TRAIN NLOGL:-18.80  TRAIN CE:11.842286 TRAIN FRAC:98.12  VALID CE:5.400789  VALID FRAC:88.00\n",
      "ITERATION:  85  TRAIN NLOGL:-18.66  TRAIN CE:11.757044 TRAIN FRAC:98.12  VALID CE:5.383634  VALID FRAC:88.00\n",
      "ITERATION:  86  TRAIN NLOGL:-18.53  TRAIN CE:11.673198 TRAIN FRAC:98.12  VALID CE:5.366798  VALID FRAC:88.00\n",
      "ITERATION:  87  TRAIN NLOGL:-18.40  TRAIN CE:11.590712 TRAIN FRAC:98.12  VALID CE:5.350271  VALID FRAC:88.00\n",
      "ITERATION:  88  TRAIN NLOGL:-18.27  TRAIN CE:11.509548 TRAIN FRAC:98.12  VALID CE:5.334046  VALID FRAC:88.00\n",
      "ITERATION:  89  TRAIN NLOGL:-18.14  TRAIN CE:11.429673 TRAIN FRAC:98.12  VALID CE:5.318114  VALID FRAC:88.00\n",
      "ITERATION:  90  TRAIN NLOGL:-18.02  TRAIN CE:11.351052 TRAIN FRAC:98.12  VALID CE:5.302468  VALID FRAC:88.00\n",
      "ITERATION:  91  TRAIN NLOGL:-17.89  TRAIN CE:11.273653 TRAIN FRAC:98.12  VALID CE:5.287100  VALID FRAC:88.00\n",
      "ITERATION:  92  TRAIN NLOGL:-17.77  TRAIN CE:11.197446 TRAIN FRAC:98.12  VALID CE:5.272003  VALID FRAC:88.00\n",
      "ITERATION:  93  TRAIN NLOGL:-17.65  TRAIN CE:11.122400 TRAIN FRAC:98.12  VALID CE:5.257171  VALID FRAC:88.00\n",
      "ITERATION:  94  TRAIN NLOGL:-17.54  TRAIN CE:11.048487 TRAIN FRAC:98.12  VALID CE:5.242597  VALID FRAC:90.00\n",
      "ITERATION:  95  TRAIN NLOGL:-17.42  TRAIN CE:10.975677 TRAIN FRAC:98.12  VALID CE:5.228273  VALID FRAC:90.00\n",
      "ITERATION:  96  TRAIN NLOGL:-17.31  TRAIN CE:10.903945 TRAIN FRAC:98.12  VALID CE:5.214195  VALID FRAC:90.00\n",
      "ITERATION:  97  TRAIN NLOGL:-17.19  TRAIN CE:10.833264 TRAIN FRAC:98.12  VALID CE:5.200355  VALID FRAC:90.00\n",
      "ITERATION:  98  TRAIN NLOGL:-17.08  TRAIN CE:10.763609 TRAIN FRAC:98.12  VALID CE:5.186749  VALID FRAC:90.00\n",
      "ITERATION:  99  TRAIN NLOGL:-16.98  TRAIN CE:10.694956 TRAIN FRAC:98.12  VALID CE:5.173370  VALID FRAC:90.00\n",
      "ITERATION: 100  TRAIN NLOGL:-16.87  TRAIN CE:10.627280 TRAIN FRAC:98.12  VALID CE:5.160214  VALID FRAC:90.00\n",
      "ITERATION: 101  TRAIN NLOGL:-16.76  TRAIN CE:10.560560 TRAIN FRAC:98.12  VALID CE:5.147274  VALID FRAC:90.00\n",
      "ITERATION: 102  TRAIN NLOGL:-16.66  TRAIN CE:10.494774 TRAIN FRAC:98.12  VALID CE:5.134546  VALID FRAC:90.00\n",
      "ITERATION: 103  TRAIN NLOGL:-16.55  TRAIN CE:10.429899 TRAIN FRAC:98.12  VALID CE:5.122024  VALID FRAC:90.00\n",
      "ITERATION: 104  TRAIN NLOGL:-16.45  TRAIN CE:10.365915 TRAIN FRAC:98.12  VALID CE:5.109705  VALID FRAC:90.00\n",
      "ITERATION: 105  TRAIN NLOGL:-16.35  TRAIN CE:10.302803 TRAIN FRAC:98.12  VALID CE:5.097583  VALID FRAC:90.00\n",
      "ITERATION: 106  TRAIN NLOGL:-16.25  TRAIN CE:10.240543 TRAIN FRAC:98.12  VALID CE:5.085654  VALID FRAC:90.00\n",
      "ITERATION: 107  TRAIN NLOGL:-16.16  TRAIN CE:10.179117 TRAIN FRAC:98.12  VALID CE:5.073914  VALID FRAC:90.00\n",
      "ITERATION: 108  TRAIN NLOGL:-16.06  TRAIN CE:10.118505 TRAIN FRAC:98.12  VALID CE:5.062358  VALID FRAC:90.00\n",
      "ITERATION: 109  TRAIN NLOGL:-15.97  TRAIN CE:10.058691 TRAIN FRAC:98.12  VALID CE:5.050982  VALID FRAC:90.00\n",
      "ITERATION: 110  TRAIN NLOGL:-15.87  TRAIN CE:9.999657 TRAIN FRAC:98.12  VALID CE:5.039783  VALID FRAC:90.00\n",
      "ITERATION: 111  TRAIN NLOGL:-15.78  TRAIN CE:9.941387 TRAIN FRAC:98.12  VALID CE:5.028756  VALID FRAC:90.00\n",
      "ITERATION: 112  TRAIN NLOGL:-15.69  TRAIN CE:9.883864 TRAIN FRAC:98.75  VALID CE:5.017898  VALID FRAC:90.00\n",
      "ITERATION: 113  TRAIN NLOGL:-15.60  TRAIN CE:9.827074 TRAIN FRAC:98.75  VALID CE:5.007205  VALID FRAC:90.00\n",
      "ITERATION: 114  TRAIN NLOGL:-15.51  TRAIN CE:9.771001 TRAIN FRAC:98.75  VALID CE:4.996674  VALID FRAC:90.00\n",
      "ITERATION: 115  TRAIN NLOGL:-15.42  TRAIN CE:9.715630 TRAIN FRAC:98.75  VALID CE:4.986301  VALID FRAC:90.00\n",
      "ITERATION: 116  TRAIN NLOGL:-15.33  TRAIN CE:9.660947 TRAIN FRAC:98.75  VALID CE:4.976082  VALID FRAC:90.00\n",
      "ITERATION: 117  TRAIN NLOGL:-15.25  TRAIN CE:9.606938 TRAIN FRAC:98.75  VALID CE:4.966016  VALID FRAC:90.00\n",
      "ITERATION: 118  TRAIN NLOGL:-15.16  TRAIN CE:9.553590 TRAIN FRAC:98.75  VALID CE:4.956097  VALID FRAC:90.00\n",
      "ITERATION: 119  TRAIN NLOGL:-15.08  TRAIN CE:9.500890 TRAIN FRAC:98.75  VALID CE:4.946325  VALID FRAC:90.00\n",
      "ITERATION: 120  TRAIN NLOGL:-15.00  TRAIN CE:9.448824 TRAIN FRAC:98.75  VALID CE:4.936695  VALID FRAC:90.00\n",
      "ITERATION: 121  TRAIN NLOGL:-14.92  TRAIN CE:9.397380 TRAIN FRAC:98.75  VALID CE:4.927204  VALID FRAC:90.00\n",
      "ITERATION: 122  TRAIN NLOGL:-14.84  TRAIN CE:9.346547 TRAIN FRAC:98.75  VALID CE:4.917850  VALID FRAC:90.00\n",
      "ITERATION: 123  TRAIN NLOGL:-14.76  TRAIN CE:9.296313 TRAIN FRAC:98.75  VALID CE:4.908630  VALID FRAC:90.00\n",
      "ITERATION: 124  TRAIN NLOGL:-14.68  TRAIN CE:9.246666 TRAIN FRAC:98.75  VALID CE:4.899542  VALID FRAC:90.00\n",
      "ITERATION: 125  TRAIN NLOGL:-14.60  TRAIN CE:9.197595 TRAIN FRAC:98.75  VALID CE:4.890582  VALID FRAC:90.00\n",
      "ITERATION: 126  TRAIN NLOGL:-14.52  TRAIN CE:9.149089 TRAIN FRAC:98.75  VALID CE:4.881749  VALID FRAC:90.00\n",
      "ITERATION: 127  TRAIN NLOGL:-14.45  TRAIN CE:9.101139 TRAIN FRAC:98.75  VALID CE:4.873039  VALID FRAC:90.00\n",
      "ITERATION: 128  TRAIN NLOGL:-14.37  TRAIN CE:9.053732 TRAIN FRAC:98.75  VALID CE:4.864452  VALID FRAC:90.00\n",
      "ITERATION: 129  TRAIN NLOGL:-14.30  TRAIN CE:9.006861 TRAIN FRAC:98.75  VALID CE:4.855983  VALID FRAC:90.00\n",
      "ITERATION: 130  TRAIN NLOGL:-14.22  TRAIN CE:8.960514 TRAIN FRAC:98.75  VALID CE:4.847631  VALID FRAC:90.00\n",
      "ITERATION: 131  TRAIN NLOGL:-14.15  TRAIN CE:8.914683 TRAIN FRAC:98.75  VALID CE:4.839393  VALID FRAC:90.00\n",
      "ITERATION: 132  TRAIN NLOGL:-14.08  TRAIN CE:8.869358 TRAIN FRAC:98.75  VALID CE:4.831268  VALID FRAC:88.00\n",
      "ITERATION: 133  TRAIN NLOGL:-14.01  TRAIN CE:8.824530 TRAIN FRAC:98.75  VALID CE:4.823254  VALID FRAC:88.00\n",
      "ITERATION: 134  TRAIN NLOGL:-13.94  TRAIN CE:8.780191 TRAIN FRAC:98.75  VALID CE:4.815348  VALID FRAC:88.00\n",
      "ITERATION: 135  TRAIN NLOGL:-13.87  TRAIN CE:8.736331 TRAIN FRAC:98.75  VALID CE:4.807548  VALID FRAC:88.00\n",
      "ITERATION: 136  TRAIN NLOGL:-13.80  TRAIN CE:8.692943 TRAIN FRAC:98.75  VALID CE:4.799852  VALID FRAC:88.00\n",
      "ITERATION: 137  TRAIN NLOGL:-13.73  TRAIN CE:8.650018 TRAIN FRAC:98.75  VALID CE:4.792260  VALID FRAC:88.00\n",
      "ITERATION: 138  TRAIN NLOGL:-13.66  TRAIN CE:8.607549 TRAIN FRAC:98.75  VALID CE:4.784767  VALID FRAC:88.00\n",
      "ITERATION: 139  TRAIN NLOGL:-13.60  TRAIN CE:8.565527 TRAIN FRAC:98.75  VALID CE:4.777374  VALID FRAC:88.00\n",
      "ITERATION: 140  TRAIN NLOGL:-13.53  TRAIN CE:8.523946 TRAIN FRAC:98.75  VALID CE:4.770077  VALID FRAC:88.00\n",
      "ITERATION: 141  TRAIN NLOGL:-13.46  TRAIN CE:8.482797 TRAIN FRAC:98.75  VALID CE:4.762876  VALID FRAC:88.00\n",
      "ITERATION: 142  TRAIN NLOGL:-13.40  TRAIN CE:8.442073 TRAIN FRAC:98.75  VALID CE:4.755769  VALID FRAC:88.00\n",
      "ITERATION: 143  TRAIN NLOGL:-13.34  TRAIN CE:8.401769 TRAIN FRAC:98.75  VALID CE:4.748753  VALID FRAC:88.00\n",
      "ITERATION: 144  TRAIN NLOGL:-13.27  TRAIN CE:8.361875 TRAIN FRAC:98.75  VALID CE:4.741828  VALID FRAC:88.00\n",
      "ITERATION: 145  TRAIN NLOGL:-13.21  TRAIN CE:8.322387 TRAIN FRAC:98.75  VALID CE:4.734992  VALID FRAC:88.00\n",
      "ITERATION: 146  TRAIN NLOGL:-13.15  TRAIN CE:8.283297 TRAIN FRAC:98.75  VALID CE:4.728243  VALID FRAC:88.00\n",
      "ITERATION: 147  TRAIN NLOGL:-13.09  TRAIN CE:8.244598 TRAIN FRAC:98.75  VALID CE:4.721580  VALID FRAC:88.00\n",
      "ITERATION: 148  TRAIN NLOGL:-13.03  TRAIN CE:8.206285 TRAIN FRAC:98.75  VALID CE:4.715001  VALID FRAC:88.00\n",
      "ITERATION: 149  TRAIN NLOGL:-12.97  TRAIN CE:8.168352 TRAIN FRAC:98.75  VALID CE:4.708505  VALID FRAC:88.00\n",
      "ITERATION: 150  TRAIN NLOGL:-12.91  TRAIN CE:8.130792 TRAIN FRAC:98.75  VALID CE:4.702091  VALID FRAC:88.00\n"
     ]
    },
    {
     "data": {
      "image/png": "[encoded data removed]",
      "text/plain": [
       "<Figure size 432x288 with 1 Axes>"
      ]
     },
     "metadata": {
      "needs_background": "light"
     },
     "output_type": "display_data"
    },
    {
     "data": {
      "image/png": "[encoded data removed]",
      "text/plain": [
       "<Figure size 432x288 with 1 Axes>"
      ]
     },
     "metadata": {
      "needs_background": "light"
     },
     "output_type": "display_data"
    }
   ],
   "source": [
    "run_logistic_regression(0.1, 150)"
   ]
  }
 ],
 "metadata": {
  "kernelspec": {
   "display_name": "Python 3",
   "language": "python",
   "name": "python3"
  },
  "language_info": {
   "codemirror_mode": {
    "name": "ipython",
    "version": 3
   },
   "file_extension": ".py",
   "mimetype": "text/x-python",
   "name": "python",
   "nbconvert_exporter": "python",
   "pygments_lexer": "ipython3",
   "version": "3.7.3"
  }
 },
 "nbformat": 4,
 "nbformat_minor": 2
}
