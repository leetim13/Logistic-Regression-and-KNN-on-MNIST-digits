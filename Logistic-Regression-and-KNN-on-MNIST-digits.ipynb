{
 "cells": [
  {
   "cell_type": "markdown",
   "metadata": {},
   "source": [
    "# Comparison of (penalized) Logistic Regression and K-Nearest-Neighbors (KNN) on MNIST digits"
   ]
  },
  {
   "cell_type": "markdown",
   "metadata": {},
   "source": [
    "This mini project will compare the performance. characteristics, and implementations of the two commonly used classifiers, namely Logistic Regression and k-Nearest Neighbors. The data we will be working with are hand-written MNIST digit of 4s and 9s, represented as `28x28` pixel arrays. There will be two training sets: `mnist_train`, which contains 80 examples of each class, and `mnist_train_small`, which contains 5 examples of each class. There is also a validation set `mnist_valid` that we will use for model selection, and a test set `mnist_test` for the final testing."
   ]
  },
  {
   "cell_type": "markdown",
   "metadata": {},
   "source": [
    "## KNN Implementation"
   ]
  },
  {
   "cell_type": "code",
   "execution_count": 1,
   "metadata": {},
   "outputs": [],
   "source": [
    "#setup\n",
    "import numpy as np\n",
    "import matplotlib.pyplot as plt\n",
    "import math"
   ]
  },
  {
   "cell_type": "markdown",
   "metadata": {},
   "source": [
    "Implement the function that computes the Euclidean distance matrix between the image $a$ and $b$."
   ]
  },
  {
   "cell_type": "code",
   "execution_count": 2,
   "metadata": {},
   "outputs": [],
   "source": [
    "def l2_distance(a, b):\n",
    "    if a.shape[0] != b.shape[0]:\n",
    "        raise ValueError(\"A and B should be of same dimensionality\")\n",
    "    aa = np.sum(a**2, axis=0)\n",
    "    bb = np.sum(b**2, axis=0)\n",
    "    ab = np.dot(a.T, b)\n",
    "    return np.sqrt(aa[:, np.newaxis] + bb[np.newaxis, :] - 2*ab)"
   ]
  },
  {
   "cell_type": "markdown",
   "metadata": {},
   "source": [
    "Load the MNIST digits datasets."
   ]
  },
  {
   "cell_type": "code",
   "execution_count": 3,
   "metadata": {},
   "outputs": [],
   "source": [
    "def load_train():\n",
    "    \"\"\"Loads training data.\"\"\"\n",
    "    with open('mnist_train.npz', 'rb') as f:\n",
    "        train_set = np.load(f)\n",
    "        train_inputs = train_set['train_inputs']\n",
    "        train_targets = train_set['train_targets']\n",
    "    return train_inputs, train_targets \n",
    "\n",
    "def load_train_small():\n",
    "    \"\"\"Loads small training data.\"\"\"\n",
    "    with open('mnist_train_small.npz', 'rb') as f:\n",
    "        train_set_small = np.load(f)\n",
    "        train_inputs_small = train_set_small['train_inputs_small']\n",
    "        train_targets_small = train_set_small['train_targets_small']\n",
    "    return train_inputs_small, train_targets_small\n",
    "\n",
    "def load_valid():\n",
    "    \"\"\"Loads validation data.\"\"\"\n",
    "    with open('mnist_valid.npz', 'rb') as f:\n",
    "        valid_set = np.load(f)\n",
    "        valid_inputs = valid_set['valid_inputs']\n",
    "        valid_targets = valid_set['valid_targets']\n",
    "    return valid_inputs, valid_targets \n",
    "\n",
    "def load_test():\n",
    "    \"\"\"Loads test data.\"\"\"\n",
    "    with open('mnist_test.npz', 'rb') as f:\n",
    "        test_set = np.load(f)\n",
    "        test_inputs = test_set['test_inputs']\n",
    "        test_targets = test_set['test_targets']\n",
    "    return test_inputs, test_targets "
   ]
  },
  {
   "cell_type": "markdown",
   "metadata": {},
   "source": [
    "Implement `extract_digits` that returns a list of 28 x 28 pixel intensity arrays starting at `start_index` and ending at `end_index`."
   ]
  },
  {
   "cell_type": "code",
   "execution_count": 4,
   "metadata": {},
   "outputs": [],
   "source": [
    "def extract_digits(digit_array, start_index, end_index):\n",
    "    digits = []\n",
    "    for index in range(int(start_index), int(end_index)):\n",
    "        digits.append(extract_digit_pixels(digit_array, index))\n",
    "    return digits"
   ]
  },
  {
   "cell_type": "markdown",
   "metadata": {},
   "source": [
    "Extracts the 28 x 28 pixel intensity array at the specified index."
   ]
  },
  {
   "cell_type": "code",
   "execution_count": 5,
   "metadata": {},
   "outputs": [],
   "source": [
    "def extract_digit_pixels(digit_array, index):\n",
    "    return digit_array[index].reshape(28, 28)"
   ]
  },
  {
   "cell_type": "markdown",
   "metadata": {},
   "source": [
    "Displays two rows of digits on the screen."
   ]
  },
  {
   "cell_type": "code",
   "execution_count": 6,
   "metadata": {},
   "outputs": [],
   "source": [
    "def show_pane(top_digits, bottom_digits):\n",
    "    all_digits = top_digits + bottom_digits\n",
    "    fig, axes = plt.subplots(nrows = 2, ncols = len(all_digits)//2)\n",
    "    for axis, digit in zip(axes.reshape(-1), all_digits):\n",
    "        axis.imshow(digit, interpolation='nearest', cmap=plt.gray())\n",
    "        axis.axis('off')\n",
    "    plt.show()"
   ]
  },
  {
   "cell_type": "markdown",
   "metadata": {},
   "source": [
    "Implement the function `plot_digits` to visualizes each example in `digit_array`."
   ]
  },
  {
   "cell_type": "code",
   "execution_count": 7,
   "metadata": {},
   "outputs": [],
   "source": [
    "def plot_digits(digit_array):\n",
    "    \"\"\"\n",
    "    Note: N is the number of examples \n",
    "          and M is the number of features per example.\n",
    "    Inputs:\n",
    "        digits: N x M array of pixel intensities.\n",
    "    \"\"\"\n",
    "    CLASS_EXAMPLES_PER_PANE = 5\n",
    "\n",
    "    # assume two evenly split classes\n",
    "    examples_per_class = digit_array.shape[0]/2\n",
    "    num_panes = int(np.ceil(float(examples_per_class)/CLASS_EXAMPLES_PER_PANE))\n",
    "\n",
    "    for pane in range(num_panes):\n",
    "        print(\"Displaying pane {}/{}\".format(pane+1, num_panes))\n",
    "\n",
    "        top_start = pane*CLASS_EXAMPLES_PER_PANE\n",
    "        top_end = min((pane+1)*CLASS_EXAMPLES_PER_PANE, examples_per_class)\n",
    "        top_pane_digits = extract_digits(digit_array, top_start, top_end)\n",
    "\n",
    "        bottom_start = top_start + examples_per_class\n",
    "        bottom_end = top_end + examples_per_class\n",
    "        bottom_pane_digits = extract_digits(digit_array, bottom_start, bottom_end)\n",
    "        show_pane(top_pane_digits, bottom_pane_digits)"
   ]
  },
  {
   "cell_type": "markdown",
   "metadata": {},
   "source": [
    "Example of plotting a digit from `load_train_small`"
   ]
  },
  {
   "cell_type": "code",
   "execution_count": 8,
   "metadata": {},
   "outputs": [
    {
     "name": "stdout",
     "output_type": "stream",
     "text": [
      "Displaying pane 1/1\n"
     ]
    },
    {
     "data": {
      "image/png": "[encoded data removed]",
      "text/plain": [
       "<Figure size 432x288 with 10 Axes>"
      ]
     },
     "metadata": {
      "needs_background": "light"
     },
     "output_type": "display_data"
    }
   ],
   "source": [
    "plot_digits(load_train_small()[0])"
   ]
  },
  {
   "cell_type": "markdown",
   "metadata": {},
   "source": [
    "Corresponding lables of `load_train_small`"
   ]
  },
  {
   "cell_type": "code",
   "execution_count": 9,
   "metadata": {},
   "outputs": [
    {
     "data": {
      "text/plain": [
       "array([[0.],\n",
       "       [0.],\n",
       "       [0.],\n",
       "       [0.],\n",
       "       [0.],\n",
       "       [1.],\n",
       "       [1.],\n",
       "       [1.],\n",
       "       [1.],\n",
       "       [1.]])"
      ]
     },
     "execution_count": 9,
     "metadata": {},
     "output_type": "execute_result"
    }
   ],
   "source": [
    "load_train_small()[1]"
   ]
  },
  {
   "cell_type": "markdown",
   "metadata": {},
   "source": [
    "## KNN Execution"
   ]
  },
  {
   "cell_type": "markdown",
   "metadata": {},
   "source": [
    "Implement the main function for KNN, `run_knn` that uses the supplied training inputs and labels to make predictions for validation data using the K-nearest neighbours algorithm."
   ]
  },
  {
   "cell_type": "code",
   "execution_count": 10,
   "metadata": {},
   "outputs": [],
   "source": [
    "def run_knn(k, train_data, train_labels, valid_data):\n",
    "    \"\"\"\n",
    "    Note: N_TRAIN is the number of training examples,\n",
    "          N_VALID is the number of validation examples, \n",
    "          and M is the number of features per example.\n",
    "    Inputs:\n",
    "        k:            The number of neighbours to use for classification \n",
    "                      of a validation example.\n",
    "        train_data:   The N_TRAIN x M array of training\n",
    "                      data.\n",
    "        train_labels: The N_TRAIN x 1 vector of training labels\n",
    "                      corresponding to the examples in train_data \n",
    "                      (must be binary).\n",
    "        valid_data:   The N_VALID x M array of data to\n",
    "                      predict classes for.\n",
    "    Outputs:\n",
    "        valid_labels: The N_VALID x 1 vector of predicted labels \n",
    "                      for the validation data.\n",
    "    \"\"\"\n",
    "\n",
    "    dist = l2_distance(valid_data.T, train_data.T)\n",
    "    nearest = np.argsort(dist, axis=1)[:,:k]\n",
    "\n",
    "    train_labels = train_labels.reshape(-1)\n",
    "    valid_labels = train_labels[nearest]\n",
    "\n",
    "    # note this only works for binary labels\n",
    "    valid_labels = (np.mean(valid_labels, axis=1) >= 0.5).astype(np.int)\n",
    "    valid_labels = valid_labels.reshape(-1,1)\n",
    "\n",
    "    return valid_labels"
   ]
  },
  {
   "cell_type": "markdown",
   "metadata": {},
   "source": [
    "Run `kNN` for different values of $k \\in \\{1, 3, 5, 7, 9\\}$ and plot the classification rate on the validation set (number of correctly predicted cases, divided by total number of data points) as a function of `k`."
   ]
  },
  {
   "cell_type": "code",
   "execution_count": 11,
   "metadata": {},
   "outputs": [],
   "source": [
    "train_inputs, train_targets = load_train()\n",
    "valid_inputs, valid_targets = load_valid()\n",
    "test_inputs, test_targets = load_test()\n",
    "\n",
    "set_k = [1,3,5,7,9]\n",
    "\n",
    "accuracy_valid_output = {}\n",
    "accuracy_test_output = {}\n",
    "\n",
    "length_valid = len(valid_inputs)\n",
    "length_test = len(test_inputs)\n",
    "for k in set_k:\n",
    "    valid_outputs = run_knn(k, train_inputs, train_targets, valid_inputs)\n",
    "    test_outputs =  run_knn(k, train_inputs, train_targets, test_inputs)\n",
    "\n",
    "    count_valid = np.sum(valid_outputs == valid_targets) \n",
    "    accuracy_valid = count_valid/length_valid\n",
    "    accuracy_valid_output[\"k=\"+str(k)] = accuracy_valid\n",
    "\n",
    "    count_test = np.sum(test_outputs == test_targets) \n",
    "    accuracy_test = count_test/length_test\n",
    "    accuracy_test_output[\"k=\"+str(k)] = accuracy_test"
   ]
  },
  {
   "cell_type": "markdown",
   "metadata": {},
   "source": [
    "Validation Accuracy:"
   ]
  },
  {
   "cell_type": "code",
   "execution_count": 12,
   "metadata": {},
   "outputs": [
    {
     "data": {
      "text/plain": [
       "{'k=1': 0.82, 'k=3': 0.86, 'k=5': 0.86, 'k=7': 0.86, 'k=9': 0.84}"
      ]
     },
     "execution_count": 12,
     "metadata": {},
     "output_type": "execute_result"
    }
   ],
   "source": [
    "accuracy_valid_output"
   ]
  },
  {
   "cell_type": "markdown",
   "metadata": {},
   "source": [
    "Test Accuracy"
   ]
  },
  {
   "cell_type": "code",
   "execution_count": 13,
   "metadata": {},
   "outputs": [
    {
     "data": {
      "text/plain": [
       "{'k=1': 0.88, 'k=3': 0.92, 'k=5': 0.94, 'k=7': 0.94, 'k=9': 0.88}"
      ]
     },
     "execution_count": 13,
     "metadata": {},
     "output_type": "execute_result"
    }
   ],
   "source": [
    "accuracy_test_output"
   ]
  },
  {
   "cell_type": "code",
   "execution_count": 14,
   "metadata": {},
   "outputs": [
    {
     "data": {
      "image/png": "[encoded data removed]",
      "text/plain": [
       "<Figure size 432x288 with 1 Axes>"
      ]
     },
     "metadata": {
      "needs_background": "light"
     },
     "output_type": "display_data"
    }
   ],
   "source": [
    "plt.plot(set_k, list(accuracy_valid_output.values()), label=\"validation rate\")\n",
    "plt.plot(set_k, list(accuracy_test_output.values()), label=\"test rate\")\n",
    "\n",
    "plt.title(\"Test VS Validation Classification Rate\")\n",
    "plt.xlabel(\"k\")\n",
    "plt.ylabel(\"Accuracy/Classification Rate\")\n",
    "plt.legend()\n",
    "plt.savefig(\"Test Set VS Validation Rates of KNN.png\")"
   ]
  },
  {
   "cell_type": "markdown",
   "metadata": {},
   "source": [
    "### Comments on the performance and which value of k* to choose from:"
   ]
  },
  {
   "cell_type": "markdown",
   "metadata": {},
   "source": [
    "Although the $k$ value of $5$ and $7$ has the same classification rate for both test and validation data set, I would choose $k^*$ to be $5$. This is because having choosing $k^* = 5$, $k^*-2 = 3$ and $k^*+2 = 7$ also outputs the highest classification rate (for both test and validation) compared to all other values for $k^*$. This might suggest that this value of $k^*$ would also perform better in different data sets (as shown by the figure above).\n",
    "\n",
    "However, the classification rate for validation and test set does not correspond, for example, for $k=3$ and $k=5$, they both have the classification rate of $0.86$ on validation set, the performance on test set is $0.92$ and $0.94$, respectively. This is likely to be caused by the different labelled data set provided to training and validation data (since both their sample size is 50 while the sample size for training set is 160). This causes the classification rate for test set to be consistently higher than that of all validation set."
   ]
  },
  {
   "cell_type": "markdown",
   "metadata": {},
   "source": [
    "## Logisitic Regression"
   ]
  },
  {
   "cell_type": "markdown",
   "metadata": {},
   "source": [
    "Now, we will perform the experiment with the same MNIST datasets using logisitic regression on both `mnist_train` and `mnist_train_small` datasets, and attempt to choose the best hyperparameters for the `learning rate`, the `number of iterations`, and the way in which we initialize the `weights`."
   ]
  },
  {
   "cell_type": "markdown",
   "metadata": {},
   "source": [
    "Computes the element wise logistic sigmoid of $x$."
   ]
  },
  {
   "cell_type": "code",
   "execution_count": 15,
   "metadata": {},
   "outputs": [],
   "source": [
    "def sigmoid(x):\n",
    "    \"\"\"\n",
    "    Inputs:\n",
    "        x: Either a row vector or a column vector.\n",
    "    \"\"\"\n",
    "    return 1.0 / (1.0 + np.exp(-x))"
   ]
  },
  {
   "cell_type": "markdown",
   "metadata": {},
   "source": [
    "Implement the `logistic_predict` function to compute the probabilities predicted by the logistic classifier."
   ]
  },
  {
   "cell_type": "code",
   "execution_count": 16,
   "metadata": {},
   "outputs": [],
   "source": [
    "def logistic_predict(weights, data):\n",
    "    \"\"\"\n",
    "    Note: N is the number of examples and\n",
    "          M is the number of features per example.\n",
    "\n",
    "    Inputs:\n",
    "        weights:    (M+1) x 1 vector of weights, where the last element\n",
    "                    corresponds to the bias (intercepts).\n",
    "        data:       N x M data matrix where each row corresponds\n",
    "                    to one data point.\n",
    "    Outputs:\n",
    "        y:          :N x 1 vector of probabilities. This is the output of the classifier.\n",
    "    \"\"\"\n",
    "    b = weights[-1]\n",
    "    y = sigmoid(np.dot(data, weights[:-1]) + b)\n",
    "    return y"
   ]
  },
  {
   "cell_type": "markdown",
   "metadata": {},
   "source": [
    "Compute evaluation metrics."
   ]
  },
  {
   "cell_type": "code",
   "execution_count": 17,
   "metadata": {},
   "outputs": [],
   "source": [
    "def evaluate(targets, y):\n",
    "    \"\"\"\n",
    "    Inputs:\n",
    "        targets : N x 1 vector of targets.\n",
    "        y       : N x 1 vector of probabilities.\n",
    "    Outputs:\n",
    "        ce           : (scalar) Cross entropy. CE(p, q) = E_p[-log q]. Here we want to compute CE(targets, y)\n",
    "        frac_correct : (scalar) Fraction of inputs classified correctly.\n",
    "    \"\"\"\n",
    "    ce = - np.dot(np.transpose(targets), np.log(y)) #\n",
    "    frac_correct = (targets == (y > 0.5)).mean()  #\n",
    "    return ce, frac_correct"
   ]
  },
  {
   "cell_type": "markdown",
   "metadata": {},
   "source": [
    "Calculate negative log likelihood and its derivatives with respect to weights and also return the predictions."
   ]
  },
  {
   "cell_type": "code",
   "execution_count": 18,
   "metadata": {},
   "outputs": [],
   "source": [
    "def logistic(weights, data, targets, hyperparameters):\n",
    "    \"\"\"\n",
    "    Note: N is the number of examples and\n",
    "          M is the number of features per example.\n",
    "    Inputs:\n",
    "        weights:    (M+1) x 1 vector of weights, where the last element\n",
    "                    corresponds to bias (intercepts).\n",
    "        data:       N x M data matrix where each row corresponds\n",
    "                    to one data point.\n",
    "        targets:    N x 1 vector of targets class probabilities.\n",
    "        hyperparameters: The hyperparameters dictionary.\n",
    "    Outputs:\n",
    "        f:       The sum of the loss over all data points. This is the objective that we want to minimize.\n",
    "        df:      (M+1) x 1 vector of derivative of f w.r.t. weights.\n",
    "        y:       N x 1 vector of probabilities.\n",
    "    \"\"\"  \n",
    "    y = logistic_predict(weights, data) #after sigmoid transformation\n",
    "    #compute f and df without regularization\n",
    "    f = 0\n",
    "    for i in range(len(y)): #y is vector of n elements\n",
    "        f += (-targets[i]*math.log(y[i])) - (1-targets[i])*math.log(1-y[i]) #by formula of L_CE\n",
    "        \n",
    "    product = data.T.dot(y-targets)\n",
    "    #add vector of sum([y-targets]) to the last row to make df to size (M+1) x 1\n",
    "    df = np.append(product, [[np.sum(y-targets)]], axis = 0) \n",
    "    return f, df, y"
   ]
  },
  {
   "cell_type": "markdown",
   "metadata": {},
   "source": [
    "Performs a simple gradient check on logistic function."
   ]
  },
  {
   "cell_type": "code",
   "execution_count": 19,
   "metadata": {},
   "outputs": [],
   "source": [
    "def check_grad(func, X, epsilon, *args):\n",
    "    \"\"\"\n",
    "    checks the derivatives in a function, by comparing them to finite\n",
    "    differences approximations. The partial derivatives and the approximation\n",
    "    are printed and the norm of the diffrence divided by the norm of the sum is\n",
    "    returned as an indication of accuracy.\n",
    "    usage: checkgrad(func, X, epsilon, P1, P2, ...)\n",
    "    where X is the argument and epsilon is the small perturbation used for the finite\n",
    "    differences. and the P1, P2, ... are optional additional parameters which\n",
    "    get passed to f. The function f should be of the type\n",
    "    (fX, dfX) = func(X, P1, P2, ...)\n",
    "    where fX is the function value and dfX is a vector of partial derivatives.\n",
    "    Original Author: Carl Edward Rasmussen, 2001-08-01.\n",
    "    Ported to Python 2.7 by JCS (9/21/2013).\n",
    "    \"\"\"\n",
    "    if len(X.shape) != 2 or X.shape[1] != 1:\n",
    "        raise ValueError(\"X must be a vector\")\n",
    "    y, dy, = func(X, *args)[:2]         # get the partial derivatives dy\n",
    "    dh = np.zeros((len(X), 1))\n",
    "    for j in range(len(X)):\n",
    "        dx = np.zeros((len(X), 1))\n",
    "        dx[j] += epsilon\n",
    "        y2 = func(X+dx, *args)[0]\n",
    "        dx = -dx\n",
    "        y1 = func(X+dx, *args)[0]\n",
    "        dh[j] = (y2 - y1)/(2*epsilon)\n",
    "#     print(np.hstack((dy, dh)))         # print the two vectors\n",
    "    d = np.linalg.norm(dh-dy)/np.linalg.norm(dh+dy)  # return norm of diff divided by norm of sum\n",
    "    return d\n",
    "\n",
    "def run_check_grad(hyperparameters):\n",
    "    # This creates small random data with 20 examples and\n",
    "    # 10 dimensions and checks the gradient on that data.\n",
    "    num_examples = 20\n",
    "    num_dimensions = 10\n",
    "    weights = np.random.randn(num_dimensions+1, 1)\n",
    "    data    = np.random.randn(num_examples, num_dimensions)\n",
    "    targets = np.random.rand(num_examples, 1)\n",
    "\n",
    "    diff = check_grad(logistic,      # function to check\n",
    "                      weights,\n",
    "                      0.001,         # perturbation\n",
    "                      data,\n",
    "                      targets,\n",
    "                      hyperparameters)\n",
    "    print(\"check_grad diff (should be close to 0)=\", diff)"
   ]
  },
  {
   "cell_type": "markdown",
   "metadata": {},
   "source": [
    "## Execution"
   ]
  },
  {
   "cell_type": "code",
   "execution_count": 20,
   "metadata": {},
   "outputs": [],
   "source": [
    "def run_logistic_regression(learning_rate, num_iterations, stats_on=True):\n",
    "    train_inputs, train_targets = load_train()\n",
    "    #train_inputs, train_targets = load_train_small()\n",
    "    valid_inputs, valid_targets = load_valid()\n",
    "    N, M = train_inputs.shape\n",
    "\n",
    "    # Set hyperparameters\n",
    "    hyperparameters = {\n",
    "                    'learning_rate': learning_rate,\n",
    "                    'weight_regularization': 1,\n",
    "                    'num_iterations':num_iterations\n",
    "                 }\n",
    "\n",
    "    # Logistic regression weights\n",
    "    # Initialize to random weights here.\n",
    "    weights = np.random.randn(M + 1, 1) /10\n",
    "\n",
    "    # Verify that your logistic function produces the right gradient.\n",
    "    # diff should be very close to 0.\n",
    "    run_check_grad(hyperparameters)\n",
    "\n",
    "    ce_train = []\n",
    "    ce_test = []\n",
    "    fc_train = []\n",
    "    fc_test = []\n",
    "\n",
    "    # Begin learning with gradient descent\n",
    "    for t in range(hyperparameters['num_iterations']):\n",
    "\n",
    "        # Find the negative log likelihood and its derivatives w.r.t. the weights.\n",
    "        f, df, predictions = logistic(weights, train_inputs, train_targets, hyperparameters)\n",
    "\n",
    "        # Evaluate the prediction.\n",
    "        cross_entropy_train, frac_correct_train = evaluate(train_targets, predictions)\n",
    "\n",
    "        if np.isnan(f) or np.isinf(f):\n",
    "            raise ValueError(\"nan/inf error\")\n",
    "\n",
    "        # update parameters\n",
    "        weights = weights - hyperparameters['learning_rate'] * df / N\n",
    "\n",
    "        # Make a prediction on the valid_inputs.\n",
    "        predictions_valid = logistic_predict(weights, valid_inputs)\n",
    "\n",
    "        # Evaluate the prediction.\n",
    "        cross_entropy_valid, frac_correct_valid = evaluate(valid_targets, predictions_valid)\n",
    "\n",
    "        # print stats if stats_on is True\n",
    "        if stats_on:\n",
    "            print((\"ITERATION:{:4d}  TRAIN NLOGL:{:4.2f}  TRAIN CE:{:.6f} \"\n",
    "                   \"TRAIN FRAC:{:2.2f}  VALID CE:{:.6f}  VALID FRAC:{:2.2f}\").format(\n",
    "                       (t+1), float(f / N), float(cross_entropy_train), float(frac_correct_train*100),\n",
    "                       float(cross_entropy_valid), float(frac_correct_valid*100)))\n",
    "\n",
    "        ce_train = np.append(ce_train, cross_entropy_train)\n",
    "        ce_test = np.append(ce_test, cross_entropy_valid)\n",
    "        fc_train = np.append(fc_train, frac_correct_train)\n",
    "        fc_test = np.append(fc_test, frac_correct_valid)\n",
    "\n",
    "    plt.plot(ce_train, label = \"training set\")\n",
    "    plt.plot(ce_test, label = \"validation set\")\n",
    "    plt.title(\"Cross Entropy with small training set using \\n learning rate \"+ str(hyperparameters['learning_rate'])+\n",
    "              \" and \" + str(hyperparameters['num_iterations']) + \" iterations\")\n",
    "    plt.legend()\n",
    "    plt.show()\n",
    "    plt.plot(fc_train, label = \"training set\")\n",
    "    plt.plot(fc_test, label = \"validation set\")\n",
    "    plt.title(\"Fraction Correctness with small training set using \\n learning rate \"+ str(hyperparameters['learning_rate'])+\n",
    "          \" and \" + str(hyperparameters['num_iterations']) + \" iterations\")\n",
    "    plt.show()"
   ]
  },
  {
   "cell_type": "code",
   "execution_count": 22,
   "metadata": {},
   "outputs": [],
   "source": [
    "# run_logistic_regression(0.1, 150)"
   ]
  }
 ],
 "metadata": {
  "kernelspec": {
   "display_name": "Python 3",
   "language": "python",
   "name": "python3"
  },
  "language_info": {
   "codemirror_mode": {
    "name": "ipython",
    "version": 3
   },
   "file_extension": ".py",
   "mimetype": "text/x-python",
   "name": "python",
   "nbconvert_exporter": "python",
   "pygments_lexer": "ipython3",
   "version": "3.7.3"
  }
 },
 "nbformat": 4,
 "nbformat_minor": 2
}
