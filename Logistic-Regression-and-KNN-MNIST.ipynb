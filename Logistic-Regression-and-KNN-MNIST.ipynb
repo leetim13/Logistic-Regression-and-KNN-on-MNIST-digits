{
 "cells": [
  {
   "cell_type": "markdown",
   "metadata": {},
   "source": [
    "# Comparison of (penalized) Logistic Regression and K-Nearest-Neighbors (KNN) on MNIST digits"
   ]
  },
  {
   "cell_type": "markdown",
   "metadata": {},
   "source": [
    "This mini project will compare the performance. characteristics, and implementations of the two commonly used classifiers, namely Logistic Regression and k-Nearest Neighbors. The data we will be working with are hand-written MNIST digit of 4s and 9s, represented as `28x28` pixel arrays. There will be two training sets: `mnist_train`, which contains 80 examples of each class, and `mnist_train_small`, which contains 5 examples of each class. There is also a validation set `mnist_valid` that we will use for model selection, and a test set `mnist_test` for the final testing."
   ]
  },
  {
   "cell_type": "markdown",
   "metadata": {},
   "source": [
    "## KNN Implementation"
   ]
  },
  {
   "cell_type": "code",
   "execution_count": 27,
   "metadata": {},
   "outputs": [],
   "source": [
    "#setup\n",
    "import numpy as np\n",
    "import matplotlib.pyplot as plt\n",
    "import math"
   ]
  },
  {
   "cell_type": "markdown",
   "metadata": {},
   "source": [
    "Implement the function that computes the Euclidean distance matrix between the image $a$ and $b$."
   ]
  },
  {
   "cell_type": "code",
   "execution_count": 2,
   "metadata": {},
   "outputs": [],
   "source": [
    "def l2_distance(a, b):\n",
    "    if a.shape[0] != b.shape[0]:\n",
    "        raise ValueError(\"A and B should be of same dimensionality\")\n",
    "    aa = np.sum(a**2, axis=0)\n",
    "    bb = np.sum(b**2, axis=0)\n",
    "    ab = np.dot(a.T, b)\n",
    "    return np.sqrt(aa[:, np.newaxis] + bb[np.newaxis, :] - 2*ab)"
   ]
  },
  {
   "cell_type": "markdown",
   "metadata": {},
   "source": [
    "Load the MNIST digits datasets."
   ]
  },
  {
   "cell_type": "code",
   "execution_count": 4,
   "metadata": {},
   "outputs": [],
   "source": [
    "def load_train():\n",
    "    \"\"\"Loads training data.\"\"\"\n",
    "    with open('mnist_train.npz', 'rb') as f:\n",
    "        train_set = np.load(f)\n",
    "        train_inputs = train_set['train_inputs']\n",
    "        train_targets = train_set['train_targets']\n",
    "    return train_inputs, train_targets \n",
    "\n",
    "def load_train_small():\n",
    "    \"\"\"Loads small training data.\"\"\"\n",
    "    with open('mnist_train_small.npz', 'rb') as f:\n",
    "        train_set_small = np.load(f)\n",
    "        train_inputs_small = train_set_small['train_inputs_small']\n",
    "        train_targets_small = train_set_small['train_targets_small']\n",
    "    return train_inputs_small, train_targets_small\n",
    "\n",
    "def load_valid():\n",
    "    \"\"\"Loads validation data.\"\"\"\n",
    "    with open('mnist_valid.npz', 'rb') as f:\n",
    "        valid_set = np.load(f)\n",
    "        valid_inputs = valid_set['valid_inputs']\n",
    "        valid_targets = valid_set['valid_targets']\n",
    "    return valid_inputs, valid_targets \n",
    "\n",
    "def load_test():\n",
    "    \"\"\"Loads test data.\"\"\"\n",
    "    with open('mnist_test.npz', 'rb') as f:\n",
    "        test_set = np.load(f)\n",
    "        test_inputs = test_set['test_inputs']\n",
    "        test_targets = test_set['test_targets']\n",
    "    return test_inputs, test_targets "
   ]
  },
  {
   "cell_type": "markdown",
   "metadata": {},
   "source": [
    "Implement `extract_digits` that returns a list of 28 x 28 pixel intensity arrays starting at `start_index` and ending at `end_index`."
   ]
  },
  {
   "cell_type": "code",
   "execution_count": 5,
   "metadata": {},
   "outputs": [],
   "source": [
    "def extract_digits(digit_array, start_index, end_index):\n",
    "    digits = []\n",
    "    for index in range(int(start_index), int(end_index)):\n",
    "        digits.append(extract_digit_pixels(digit_array, index))\n",
    "    return digits"
   ]
  },
  {
   "cell_type": "markdown",
   "metadata": {},
   "source": [
    "Extracts the 28 x 28 pixel intensity array at the specified index."
   ]
  },
  {
   "cell_type": "code",
   "execution_count": 6,
   "metadata": {},
   "outputs": [],
   "source": [
    "def extract_digit_pixels(digit_array, index):\n",
    "    return digit_array[index].reshape(28, 28)"
   ]
  },
  {
   "cell_type": "markdown",
   "metadata": {},
   "source": [
    "Displays two rows of digits on the screen."
   ]
  },
  {
   "cell_type": "code",
   "execution_count": 7,
   "metadata": {},
   "outputs": [],
   "source": [
    "def show_pane(top_digits, bottom_digits):\n",
    "    all_digits = top_digits + bottom_digits\n",
    "    fig, axes = plt.subplots(nrows = 2, ncols = len(all_digits)//2)\n",
    "    for axis, digit in zip(axes.reshape(-1), all_digits):\n",
    "        axis.imshow(digit, interpolation='nearest', cmap=plt.gray())\n",
    "        axis.axis('off')\n",
    "    plt.show()"
   ]
  },
  {
   "cell_type": "markdown",
   "metadata": {},
   "source": [
    "Implement the function `plot_digits` to visualizes each example in `digit_array`."
   ]
  },
  {
   "cell_type": "code",
   "execution_count": 8,
   "metadata": {},
   "outputs": [],
   "source": [
    "def plot_digits(digit_array):\n",
    "    \"\"\"\n",
    "    Note: N is the number of examples \n",
    "          and M is the number of features per example.\n",
    "    Inputs:\n",
    "        digits: N x M array of pixel intensities.\n",
    "    \"\"\"\n",
    "    CLASS_EXAMPLES_PER_PANE = 5\n",
    "\n",
    "    # assume two evenly split classes\n",
    "    examples_per_class = digit_array.shape[0]/2\n",
    "    num_panes = int(np.ceil(float(examples_per_class)/CLASS_EXAMPLES_PER_PANE))\n",
    "\n",
    "    for pane in range(num_panes):\n",
    "        print(\"Displaying pane {}/{}\".format(pane+1, num_panes))\n",
    "\n",
    "        top_start = pane*CLASS_EXAMPLES_PER_PANE\n",
    "        top_end = min((pane+1)*CLASS_EXAMPLES_PER_PANE, examples_per_class)\n",
    "        top_pane_digits = extract_digits(digit_array, top_start, top_end)\n",
    "\n",
    "        bottom_start = top_start + examples_per_class\n",
    "        bottom_end = top_end + examples_per_class\n",
    "        bottom_pane_digits = extract_digits(digit_array, bottom_start, bottom_end)\n",
    "        show_pane(top_pane_digits, bottom_pane_digits)"
   ]
  },
  {
   "cell_type": "markdown",
   "metadata": {},
   "source": [
    "Example of plotting a digit from `load_train_small`"
   ]
  },
  {
   "cell_type": "code",
   "execution_count": 9,
   "metadata": {},
   "outputs": [
    {
     "name": "stdout",
     "output_type": "stream",
     "text": [
      "Displaying pane 1/1\n"
     ]
    },
    {
     "data": {
      "image/png": "[encoded data removed]",
      "text/plain": [
       "<Figure size 432x288 with 10 Axes>"
      ]
     },
     "metadata": {
      "needs_background": "light"
     },
     "output_type": "display_data"
    }
   ],
   "source": [
    "plot_digits(load_train_small()[0])"
   ]
  },
  {
   "cell_type": "markdown",
   "metadata": {},
   "source": [
    "Corresponding lables of `load_train_small`"
   ]
  },
  {
   "cell_type": "code",
   "execution_count": 10,
   "metadata": {},
   "outputs": [
    {
     "data": {
      "text/plain": [
       "array([[0.],\n",
       "       [0.],\n",
       "       [0.],\n",
       "       [0.],\n",
       "       [0.],\n",
       "       [1.],\n",
       "       [1.],\n",
       "       [1.],\n",
       "       [1.],\n",
       "       [1.]])"
      ]
     },
     "execution_count": 10,
     "metadata": {},
     "output_type": "execute_result"
    }
   ],
   "source": [
    "load_train_small()[1]"
   ]
  },
  {
   "cell_type": "markdown",
   "metadata": {},
   "source": [
    "## KNN Execution"
   ]
  },
  {
   "cell_type": "markdown",
   "metadata": {},
   "source": [
    "Implement the main function for KNN, `run_knn` that uses the supplied training inputs and labels to make predictions for validation data using the K-nearest neighbours algorithm."
   ]
  },
  {
   "cell_type": "code",
   "execution_count": 11,
   "metadata": {},
   "outputs": [],
   "source": [
    "def run_knn(k, train_data, train_labels, valid_data):\n",
    "    \"\"\"\n",
    "    Note: N_TRAIN is the number of training examples,\n",
    "          N_VALID is the number of validation examples, \n",
    "          and M is the number of features per example.\n",
    "    Inputs:\n",
    "        k:            The number of neighbours to use for classification \n",
    "                      of a validation example.\n",
    "        train_data:   The N_TRAIN x M array of training\n",
    "                      data.\n",
    "        train_labels: The N_TRAIN x 1 vector of training labels\n",
    "                      corresponding to the examples in train_data \n",
    "                      (must be binary).\n",
    "        valid_data:   The N_VALID x M array of data to\n",
    "                      predict classes for.\n",
    "    Outputs:\n",
    "        valid_labels: The N_VALID x 1 vector of predicted labels \n",
    "                      for the validation data.\n",
    "    \"\"\"\n",
    "\n",
    "    dist = l2_distance(valid_data.T, train_data.T)\n",
    "    nearest = np.argsort(dist, axis=1)[:,:k]\n",
    "\n",
    "    train_labels = train_labels.reshape(-1)\n",
    "    valid_labels = train_labels[nearest]\n",
    "\n",
    "    # note this only works for binary labels\n",
    "    valid_labels = (np.mean(valid_labels, axis=1) >= 0.5).astype(np.int)\n",
    "    valid_labels = valid_labels.reshape(-1,1)\n",
    "\n",
    "    return valid_labels"
   ]
  },
  {
   "cell_type": "markdown",
   "metadata": {},
   "source": [
    "Run `kNN` for different values of $k \\in \\{1, 3, 5, 7, 9\\}$ and plot the classification rate on the validation set (number of correctly predicted cases, divided by total number of data points) as a function of `k`."
   ]
  },
  {
   "cell_type": "code",
   "execution_count": 12,
   "metadata": {},
   "outputs": [],
   "source": [
    "train_inputs, train_targets = load_train()\n",
    "valid_inputs, valid_targets = load_valid()\n",
    "test_inputs, test_targets = load_test()\n",
    "\n",
    "set_k = [1,3,5,7,9]\n",
    "\n",
    "accuracy_valid_output = {}\n",
    "accuracy_test_output = {}\n",
    "\n",
    "length_valid = len(valid_inputs)\n",
    "length_test = len(test_inputs)\n",
    "for k in set_k:\n",
    "    valid_outputs = run_knn(k, train_inputs, train_targets, valid_inputs)\n",
    "    test_outputs =  run_knn(k, train_inputs, train_targets, test_inputs)\n",
    "\n",
    "    count_valid = np.sum(valid_outputs == valid_targets) \n",
    "    accuracy_valid = count_valid/length_valid\n",
    "    accuracy_valid_output[\"k=\"+str(k)] = accuracy_valid\n",
    "\n",
    "    count_test = np.sum(test_outputs == test_targets) \n",
    "    accuracy_test = count_test/length_test\n",
    "    accuracy_test_output[\"k=\"+str(k)] = accuracy_test"
   ]
  },
  {
   "cell_type": "markdown",
   "metadata": {},
   "source": [
    "Validation Accuracy:"
   ]
  },
  {
   "cell_type": "code",
   "execution_count": 13,
   "metadata": {},
   "outputs": [
    {
     "data": {
      "text/plain": [
       "{'k=1': 0.82, 'k=3': 0.86, 'k=5': 0.86, 'k=7': 0.86, 'k=9': 0.84}"
      ]
     },
     "execution_count": 13,
     "metadata": {},
     "output_type": "execute_result"
    }
   ],
   "source": [
    "accuracy_valid_output"
   ]
  },
  {
   "cell_type": "markdown",
   "metadata": {},
   "source": [
    "Test Accuracy"
   ]
  },
  {
   "cell_type": "code",
   "execution_count": 14,
   "metadata": {},
   "outputs": [
    {
     "data": {
      "text/plain": [
       "{'k=1': 0.88, 'k=3': 0.92, 'k=5': 0.94, 'k=7': 0.94, 'k=9': 0.88}"
      ]
     },
     "execution_count": 14,
     "metadata": {},
     "output_type": "execute_result"
    }
   ],
   "source": [
    "accuracy_test_output"
   ]
  },
  {
   "cell_type": "code",
   "execution_count": 17,
   "metadata": {},
   "outputs": [
    {
     "data": {
      "image/png": "[encoded data removed]",
      "text/plain": [
       "<Figure size 432x288 with 1 Axes>"
      ]
     },
     "metadata": {
      "needs_background": "light"
     },
     "output_type": "display_data"
    }
   ],
   "source": [
    "plt.plot(set_k, list(accuracy_valid_output.values()), label=\"validation rate\")\n",
    "plt.plot(set_k, list(accuracy_test_output.values()), label=\"test rate\")\n",
    "\n",
    "plt.title(\"Test VS Validation Classification Rate\")\n",
    "plt.xlabel(\"k\")\n",
    "plt.ylabel(\"Accuracy/Classification Rate\")\n",
    "plt.legend()\n",
    "plt.savefig(\"Test Set VS Validation Rates of KNN.png\")"
   ]
  },
  {
   "cell_type": "markdown",
   "metadata": {},
   "source": [
    "### Comments on the performance and which value of k* to choose from:"
   ]
  },
  {
   "cell_type": "markdown",
   "metadata": {},
   "source": [
    "Although the $k$ value of $5$ and $7$ has the same classification rate for both test and validation data set, I would choose $k^*$ to be $5$. This is because having choosing $k^* = 5$, $k^*-2 = 3$ and $k^*+2 = 7$ also outputs the highest classification rate (for both test and validation) compared to all other values for $k^*$. This might suggest that this value of $k^*$ would also perform better in different data sets (as shown by the figure above).\n",
    "\n",
    "However, the classification rate for validation and test set does not correspond, for example, for $k=3$ and $k=5$, they both have the classification rate of $0.86$ on validation set, the performance on test set is $0.92$ and $0.94$, respectively. This is likely to be caused by the different labelled data set provided to training and validation data (since both their sample size is 50 while the sample size for training set is 160). This causes the classification rate for test set to be consistently higher than that of all validation set."
   ]
  },
  {
   "cell_type": "markdown",
   "metadata": {},
   "source": [
    "## Logisitic Regression"
   ]
  },
  {
   "cell_type": "markdown",
   "metadata": {},
   "source": [
    "Now, we will perform the experiment with the same MNIST datasets using logisitic regression on both `mnist_train` and `mnist_train_small` datasets, and attempt to choose the best hyperparameters for the `learning rate`, the `number of iterations`, and the way in which we initialize the `weights`."
   ]
  },
  {
   "cell_type": "markdown",
   "metadata": {},
   "source": [
    "Computes the element wise logistic sigmoid of $x$."
   ]
  },
  {
   "cell_type": "code",
   "execution_count": 3,
   "metadata": {},
   "outputs": [],
   "source": [
    "def sigmoid(x):\n",
    "    \"\"\"\n",
    "    Inputs:\n",
    "        x: Either a row vector or a column vector.\n",
    "    \"\"\"\n",
    "    return 1.0 / (1.0 + np.exp(-x))"
   ]
  },
  {
   "cell_type": "markdown",
   "metadata": {},
   "source": [
    "Implement the `logistic_predict` function to compute the probabilities predicted by the logistic classifier."
   ]
  },
  {
   "cell_type": "code",
   "execution_count": 48,
   "metadata": {},
   "outputs": [],
   "source": [
    "def logistic_predict(weights, data):\n",
    "    \"\"\"\n",
    "    Note: N is the number of examples and\n",
    "          M is the number of features per example.\n",
    "\n",
    "    Inputs:\n",
    "        weights:    (M+1) x 1 vector of weights, where the last element\n",
    "                    corresponds to the bias (intercepts).\n",
    "        data:       N x M data matrix where each row corresponds\n",
    "                    to one data point.\n",
    "    Outputs:\n",
    "        y:          :N x 1 vector of probabilities. This is the output of the classifier.\n",
    "    \"\"\"\n",
    "    b = weights[-1]\n",
    "    y = sigmoid(np.dot(data, weights[:-1]) + b)\n",
    "    return y"
   ]
  },
  {
   "cell_type": "markdown",
   "metadata": {},
   "source": [
    "Compute evaluation metrics."
   ]
  },
  {
   "cell_type": "code",
   "execution_count": 47,
   "metadata": {},
   "outputs": [],
   "source": [
    "def evaluate(targets, y):\n",
    "    \"\"\"\n",
    "    Inputs:\n",
    "        targets : N x 1 vector of targets.\n",
    "        y       : N x 1 vector of probabilities.\n",
    "    Outputs:\n",
    "        ce           : (scalar) Cross entropy. CE(p, q) = E_p[-log q]. Here we want to compute CE(targets, y)\n",
    "        frac_correct : (scalar) Fraction of inputs classified correctly.\n",
    "    \"\"\"\n",
    "    ce = - np.dot(np.transpose(targets), np.log(y)) #\n",
    "    frac_correct = (targets == (y > 0.5)).mean()  #\n",
    "    return ce, frac_correct"
   ]
  },
  {
   "cell_type": "markdown",
   "metadata": {},
   "source": [
    "Calculate negative log likelihood and its derivatives with respect to weights and also return the predictions."
   ]
  },
  {
   "cell_type": "code",
   "execution_count": 32,
   "metadata": {},
   "outputs": [],
   "source": [
    "def logistic(weights, data, targets, hyperparameters):\n",
    "    \"\"\"\n",
    "    Note: N is the number of examples and\n",
    "          M is the number of features per example.\n",
    "    Inputs:\n",
    "        weights:    (M+1) x 1 vector of weights, where the last element\n",
    "                    corresponds to bias (intercepts).\n",
    "        data:       N x M data matrix where each row corresponds\n",
    "                    to one data point.\n",
    "        targets:    N x 1 vector of targets class probabilities.\n",
    "        hyperparameters: The hyperparameters dictionary.\n",
    "    Outputs:\n",
    "        f:       The sum of the loss over all data points. This is the objective that we want to minimize.\n",
    "        df:      (M+1) x 1 vector of derivative of f w.r.t. weights.\n",
    "        y:       N x 1 vector of probabilities.\n",
    "    \"\"\"  \n",
    "    y = logistic_predict(weights, data) #after sigmoid transformation\n",
    "    #compute f and df without regularization\n",
    "    f = 0\n",
    "    for i in range(len(y)): #y is vector of n elements\n",
    "        f += (-targets[i]*math.log(y[i])) - (1-targets[i])*math.log(1-y[i]) #by formula of L_CE\n",
    "        \n",
    "    product = data.T.dot(y-targets)\n",
    "    #add vector of sum([y-targets]) to the last row to make df to size (M+1) x 1\n",
    "    df = np.append(product, [[np.sum(y-targets)]], axis = 0) \n",
    "    return f, df, y"
   ]
  },
  {
   "cell_type": "markdown",
   "metadata": {},
   "source": [
    "Performs a simple gradient check on logistic function."
   ]
  },
  {
   "cell_type": "code",
   "execution_count": 126,
   "metadata": {},
   "outputs": [],
   "source": [
    "def check_grad(func, X, epsilon, *args):\n",
    "    \"\"\"\n",
    "    checks the derivatives in a function, by comparing them to finite\n",
    "    differences approximations. The partial derivatives and the approximation\n",
    "    are printed and the norm of the diffrence divided by the norm of the sum is\n",
    "    returned as an indication of accuracy.\n",
    "    usage: checkgrad(func, X, epsilon, P1, P2, ...)\n",
    "    where X is the argument and epsilon is the small perturbation used for the finite\n",
    "    differences. and the P1, P2, ... are optional additional parameters which\n",
    "    get passed to f. The function f should be of the type\n",
    "    (fX, dfX) = func(X, P1, P2, ...)\n",
    "    where fX is the function value and dfX is a vector of partial derivatives.\n",
    "    Original Author: Carl Edward Rasmussen, 2001-08-01.\n",
    "    Ported to Python 2.7 by JCS (9/21/2013).\n",
    "    \"\"\"\n",
    "    if len(X.shape) != 2 or X.shape[1] != 1:\n",
    "        raise ValueError(\"X must be a vector\")\n",
    "    y, dy, = func(X, *args)[:2]         # get the partial derivatives dy\n",
    "    dh = np.zeros((len(X), 1))\n",
    "    for j in range(len(X)):\n",
    "        dx = np.zeros((len(X), 1))\n",
    "        dx[j] += epsilon\n",
    "        y2 = func(X+dx, *args)[0]\n",
    "        dx = -dx\n",
    "        y1 = func(X+dx, *args)[0]\n",
    "        dh[j] = (y2 - y1)/(2*epsilon)\n",
    "#     print(np.hstack((dy, dh)))         # print the two vectors\n",
    "    d = np.linalg.norm(dh-dy)/np.linalg.norm(dh+dy)  # return norm of diff divided by norm of sum\n",
    "    return d\n",
    "\n",
    "def run_check_grad(hyperparameters):\n",
    "    # This creates small random data with 20 examples and\n",
    "    # 10 dimensions and checks the gradient on that data.\n",
    "    num_examples = 20\n",
    "    num_dimensions = 10\n",
    "    weights = np.random.randn(num_dimensions+1, 1)\n",
    "    data    = np.random.randn(num_examples, num_dimensions)\n",
    "    targets = np.random.rand(num_examples, 1)\n",
    "\n",
    "    diff = check_grad(logistic,      # function to check\n",
    "                      weights,\n",
    "                      0.001,         # perturbation\n",
    "                      data,\n",
    "                      targets,\n",
    "                      hyperparameters)\n",
    "    print(\"check_grad diff (should be close to 0)=\", diff)"
   ]
  },
  {
   "cell_type": "markdown",
   "metadata": {},
   "source": [
    "## Execution"
   ]
  },
  {
   "cell_type": "code",
   "execution_count": 123,
   "metadata": {},
   "outputs": [],
   "source": [
    "def run_logistic_regression(learning_rate, num_iterations, stats_on=True):\n",
    "    train_inputs, train_targets = load_train()\n",
    "    #train_inputs, train_targets = load_train_small()\n",
    "    valid_inputs, valid_targets = load_valid()\n",
    "    N, M = train_inputs.shape\n",
    "\n",
    "    # Set hyperparameters\n",
    "    hyperparameters = {\n",
    "                    'learning_rate': learning_rate,\n",
    "                    'weight_regularization': 1,\n",
    "                    'num_iterations':num_iterations\n",
    "                 }\n",
    "\n",
    "    # Logistic regression weights\n",
    "    # Initialize to random weights here.\n",
    "    weights = np.random.randn(M + 1, 1) /10\n",
    "\n",
    "    # Verify that your logistic function produces the right gradient.\n",
    "    # diff should be very close to 0.\n",
    "    run_check_grad(hyperparameters)\n",
    "\n",
    "    ce_train = []\n",
    "    ce_test = []\n",
    "    fc_train = []\n",
    "    fc_test = []\n",
    "\n",
    "    # Begin learning with gradient descent\n",
    "    for t in range(hyperparameters['num_iterations']):\n",
    "\n",
    "        # Find the negative log likelihood and its derivatives w.r.t. the weights.\n",
    "        f, df, predictions = logistic(weights, train_inputs, train_targets, hyperparameters)\n",
    "\n",
    "        # Evaluate the prediction.\n",
    "        cross_entropy_train, frac_correct_train = evaluate(train_targets, predictions)\n",
    "\n",
    "        if np.isnan(f) or np.isinf(f):\n",
    "            raise ValueError(\"nan/inf error\")\n",
    "\n",
    "        # update parameters\n",
    "        weights = weights - hyperparameters['learning_rate'] * df / N\n",
    "\n",
    "        # Make a prediction on the valid_inputs.\n",
    "        predictions_valid = logistic_predict(weights, valid_inputs)\n",
    "\n",
    "        # Evaluate the prediction.\n",
    "        cross_entropy_valid, frac_correct_valid = evaluate(valid_targets, predictions_valid)\n",
    "\n",
    "        # print stats if stats_on is True\n",
    "        if stats_on:\n",
    "            print((\"ITERATION:{:4d}  TRAIN NLOGL:{:4.2f}  TRAIN CE:{:.6f} \"\n",
    "                   \"TRAIN FRAC:{:2.2f}  VALID CE:{:.6f}  VALID FRAC:{:2.2f}\").format(\n",
    "                       (t+1), float(f / N), float(cross_entropy_train), float(frac_correct_train*100),\n",
    "                       float(cross_entropy_valid), float(frac_correct_valid*100)))\n",
    "\n",
    "        ce_train = np.append(ce_train, cross_entropy_train)\n",
    "        ce_test = np.append(ce_test, cross_entropy_valid)\n",
    "        fc_train = np.append(fc_train, frac_correct_train)\n",
    "        fc_test = np.append(fc_test, frac_correct_valid)\n",
    "\n",
    "    plt.plot(ce_train, label = \"training set\")\n",
    "    plt.plot(ce_test, label = \"validation set\")\n",
    "    plt.title(\"Cross Entropy with small training set using \\n learning rate \"+ str(hyperparameters['learning_rate'])+\n",
    "              \" and \" + str(hyperparameters['num_iterations']) + \" iterations\")\n",
    "    plt.legend()\n",
    "    plt.show()\n",
    "    plt.plot(fc_train, label = \"training set\")\n",
    "    plt.plot(fc_test, label = \"validation set\")\n",
    "    plt.title(\"Fraction Correctness with small training set using \\n learning rate \"+ str(hyperparameters['learning_rate'])+\n",
    "          \" and \" + str(hyperparameters['num_iterations']) + \" iterations\")\n",
    "    plt.show()"
   ]
  },
  {
   "cell_type": "code",
   "execution_count": 128,
   "metadata": {},
   "outputs": [
    {
     "name": "stdout",
     "output_type": "stream",
     "text": [
      "check_grad diff (should be close to 0)= 1.4767455838815206e-08\n",
      "ITERATION:   1  TRAIN NLOGL:-69.20  TRAIN CE:43.666864 TRAIN FRAC:59.38  VALID CE:13.696274  VALID FRAC:64.00\n",
      "ITERATION:   2  TRAIN NLOGL:-71.14  TRAIN CE:44.848879 TRAIN FRAC:63.75  VALID CE:13.024140  VALID FRAC:66.00\n",
      "ITERATION:   3  TRAIN NLOGL:-67.48  TRAIN CE:42.536077 TRAIN FRAC:69.38  VALID CE:12.339723  VALID FRAC:70.00\n",
      "ITERATION:   4  TRAIN NLOGL:-63.72  TRAIN CE:40.166744 TRAIN FRAC:71.88  VALID CE:11.739323  VALID FRAC:68.00\n",
      "ITERATION:   5  TRAIN NLOGL:-60.37  TRAIN CE:38.053321 TRAIN FRAC:78.12  VALID CE:11.218161  VALID FRAC:74.00\n",
      "ITERATION:   6  TRAIN NLOGL:-57.41  TRAIN CE:36.186706 TRAIN FRAC:81.25  VALID CE:10.763664  VALID FRAC:74.00\n",
      "ITERATION:   7  TRAIN NLOGL:-54.78  TRAIN CE:34.531452 TRAIN FRAC:83.12  VALID CE:10.364722  VALID FRAC:76.00\n",
      "ITERATION:   8  TRAIN NLOGL:-52.44  TRAIN CE:33.055392 TRAIN FRAC:85.62  VALID CE:10.012250  VALID FRAC:78.00\n",
      "ITERATION:   9  TRAIN NLOGL:-50.34  TRAIN CE:31.731740 TRAIN FRAC:86.88  VALID CE:9.698879  VALID FRAC:78.00\n",
      "ITERATION:  10  TRAIN NLOGL:-48.45  TRAIN CE:30.538384 TRAIN FRAC:88.12  VALID CE:9.418611  VALID FRAC:80.00\n",
      "ITERATION:  11  TRAIN NLOGL:-46.73  TRAIN CE:29.457022 TRAIN FRAC:89.38  VALID CE:9.166546  VALID FRAC:80.00\n",
      "ITERATION:  12  TRAIN NLOGL:-45.17  TRAIN CE:28.472442 TRAIN FRAC:90.00  VALID CE:8.938656  VALID FRAC:80.00\n",
      "ITERATION:  13  TRAIN NLOGL:-43.74  TRAIN CE:27.571939 TRAIN FRAC:91.88  VALID CE:8.731612  VALID FRAC:82.00\n",
      "ITERATION:  14  TRAIN NLOGL:-42.43  TRAIN CE:26.744850 TRAIN FRAC:92.50  VALID CE:8.542645  VALID FRAC:82.00\n",
      "ITERATION:  15  TRAIN NLOGL:-41.22  TRAIN CE:25.982183 TRAIN FRAC:93.12  VALID CE:8.369443  VALID FRAC:82.00\n",
      "ITERATION:  16  TRAIN NLOGL:-40.10  TRAIN CE:25.276321 TRAIN FRAC:93.75  VALID CE:8.210060  VALID FRAC:84.00\n",
      "ITERATION:  17  TRAIN NLOGL:-39.06  TRAIN CE:24.620776 TRAIN FRAC:94.38  VALID CE:8.062853  VALID FRAC:84.00\n",
      "ITERATION:  18  TRAIN NLOGL:-38.09  TRAIN CE:24.010001 TRAIN FRAC:94.38  VALID CE:7.926424  VALID FRAC:88.00\n",
      "ITERATION:  19  TRAIN NLOGL:-37.18  TRAIN CE:23.439228 TRAIN FRAC:94.38  VALID CE:7.799581  VALID FRAC:88.00\n",
      "ITERATION:  20  TRAIN NLOGL:-36.34  TRAIN CE:22.904341 TRAIN FRAC:94.38  VALID CE:7.681301  VALID FRAC:88.00\n",
      "ITERATION:  21  TRAIN NLOGL:-35.54  TRAIN CE:22.401773 TRAIN FRAC:95.00  VALID CE:7.570700  VALID FRAC:88.00\n",
      "ITERATION:  22  TRAIN NLOGL:-34.79  TRAIN CE:21.928417 TRAIN FRAC:95.00  VALID CE:7.467013  VALID FRAC:88.00\n",
      "ITERATION:  23  TRAIN NLOGL:-34.08  TRAIN CE:21.481558 TRAIN FRAC:95.00  VALID CE:7.369574  VALID FRAC:88.00\n",
      "ITERATION:  24  TRAIN NLOGL:-33.41  TRAIN CE:21.058812 TRAIN FRAC:95.00  VALID CE:7.277803  VALID FRAC:88.00\n",
      "ITERATION:  25  TRAIN NLOGL:-32.77  TRAIN CE:20.658079 TRAIN FRAC:95.62  VALID CE:7.191187  VALID FRAC:90.00\n",
      "ITERATION:  26  TRAIN NLOGL:-32.17  TRAIN CE:20.277502 TRAIN FRAC:96.25  VALID CE:7.109278  VALID FRAC:88.00\n",
      "ITERATION:  27  TRAIN NLOGL:-31.59  TRAIN CE:19.915431 TRAIN FRAC:96.25  VALID CE:7.031676  VALID FRAC:88.00\n",
      "ITERATION:  28  TRAIN NLOGL:-31.05  TRAIN CE:19.570400 TRAIN FRAC:96.25  VALID CE:6.958030  VALID FRAC:88.00\n",
      "ITERATION:  29  TRAIN NLOGL:-30.52  TRAIN CE:19.241097 TRAIN FRAC:96.25  VALID CE:6.888024  VALID FRAC:90.00\n",
      "ITERATION:  30  TRAIN NLOGL:-30.03  TRAIN CE:18.926346 TRAIN FRAC:96.25  VALID CE:6.821378  VALID FRAC:90.00\n",
      "ITERATION:  31  TRAIN NLOGL:-29.55  TRAIN CE:18.625089 TRAIN FRAC:96.25  VALID CE:6.757838  VALID FRAC:90.00\n",
      "ITERATION:  32  TRAIN NLOGL:-29.09  TRAIN CE:18.336375 TRAIN FRAC:96.25  VALID CE:6.697179  VALID FRAC:90.00\n",
      "ITERATION:  33  TRAIN NLOGL:-28.65  TRAIN CE:18.059342 TRAIN FRAC:96.88  VALID CE:6.639197  VALID FRAC:90.00\n",
      "ITERATION:  34  TRAIN NLOGL:-28.23  TRAIN CE:17.793208 TRAIN FRAC:96.88  VALID CE:6.583705  VALID FRAC:90.00\n",
      "ITERATION:  35  TRAIN NLOGL:-27.82  TRAIN CE:17.537264 TRAIN FRAC:96.88  VALID CE:6.530537  VALID FRAC:90.00\n",
      "ITERATION:  36  TRAIN NLOGL:-27.43  TRAIN CE:17.290863 TRAIN FRAC:96.88  VALID CE:6.479540  VALID FRAC:90.00\n",
      "ITERATION:  37  TRAIN NLOGL:-27.06  TRAIN CE:17.053416 TRAIN FRAC:96.88  VALID CE:6.430576  VALID FRAC:90.00\n",
      "ITERATION:  38  TRAIN NLOGL:-26.69  TRAIN CE:16.824381 TRAIN FRAC:96.88  VALID CE:6.383517  VALID FRAC:90.00\n",
      "ITERATION:  39  TRAIN NLOGL:-26.34  TRAIN CE:16.603262 TRAIN FRAC:96.88  VALID CE:6.338247  VALID FRAC:90.00\n",
      "ITERATION:  40  TRAIN NLOGL:-26.00  TRAIN CE:16.389606 TRAIN FRAC:96.88  VALID CE:6.294661  VALID FRAC:90.00\n",
      "ITERATION:  41  TRAIN NLOGL:-25.67  TRAIN CE:16.182992 TRAIN FRAC:96.88  VALID CE:6.252659  VALID FRAC:90.00\n",
      "ITERATION:  42  TRAIN NLOGL:-25.36  TRAIN CE:15.983033 TRAIN FRAC:96.88  VALID CE:6.212152  VALID FRAC:88.00\n",
      "ITERATION:  43  TRAIN NLOGL:-25.05  TRAIN CE:15.789372 TRAIN FRAC:96.88  VALID CE:6.173057  VALID FRAC:88.00\n",
      "ITERATION:  44  TRAIN NLOGL:-24.75  TRAIN CE:15.601678 TRAIN FRAC:96.88  VALID CE:6.135296  VALID FRAC:88.00\n",
      "ITERATION:  45  TRAIN NLOGL:-24.46  TRAIN CE:15.419645 TRAIN FRAC:96.88  VALID CE:6.098799  VALID FRAC:88.00\n",
      "ITERATION:  46  TRAIN NLOGL:-24.18  TRAIN CE:15.242986 TRAIN FRAC:96.88  VALID CE:6.063499  VALID FRAC:88.00\n",
      "ITERATION:  47  TRAIN NLOGL:-23.91  TRAIN CE:15.071436 TRAIN FRAC:96.88  VALID CE:6.029336  VALID FRAC:88.00\n",
      "ITERATION:  48  TRAIN NLOGL:-23.65  TRAIN CE:14.904750 TRAIN FRAC:96.88  VALID CE:5.996251  VALID FRAC:88.00\n",
      "ITERATION:  49  TRAIN NLOGL:-23.39  TRAIN CE:14.742696 TRAIN FRAC:96.88  VALID CE:5.964193  VALID FRAC:88.00\n",
      "ITERATION:  50  TRAIN NLOGL:-23.14  TRAIN CE:14.585058 TRAIN FRAC:96.88  VALID CE:5.933111  VALID FRAC:88.00\n",
      "ITERATION:  51  TRAIN NLOGL:-22.90  TRAIN CE:14.431636 TRAIN FRAC:96.88  VALID CE:5.902959  VALID FRAC:88.00\n",
      "ITERATION:  52  TRAIN NLOGL:-22.66  TRAIN CE:14.282241 TRAIN FRAC:96.88  VALID CE:5.873693  VALID FRAC:88.00\n",
      "ITERATION:  53  TRAIN NLOGL:-22.43  TRAIN CE:14.136697 TRAIN FRAC:97.50  VALID CE:5.845274  VALID FRAC:88.00\n",
      "ITERATION:  54  TRAIN NLOGL:-22.20  TRAIN CE:13.994836 TRAIN FRAC:97.50  VALID CE:5.817663  VALID FRAC:88.00\n",
      "ITERATION:  55  TRAIN NLOGL:-21.99  TRAIN CE:13.856503 TRAIN FRAC:97.50  VALID CE:5.790824  VALID FRAC:88.00\n",
      "ITERATION:  56  TRAIN NLOGL:-21.77  TRAIN CE:13.721551 TRAIN FRAC:97.50  VALID CE:5.764725  VALID FRAC:88.00\n",
      "ITERATION:  57  TRAIN NLOGL:-21.56  TRAIN CE:13.589841 TRAIN FRAC:97.50  VALID CE:5.739332  VALID FRAC:88.00\n",
      "ITERATION:  58  TRAIN NLOGL:-21.36  TRAIN CE:13.461244 TRAIN FRAC:97.50  VALID CE:5.714617  VALID FRAC:88.00\n",
      "ITERATION:  59  TRAIN NLOGL:-21.16  TRAIN CE:13.335636 TRAIN FRAC:97.50  VALID CE:5.690552  VALID FRAC:88.00\n",
      "ITERATION:  60  TRAIN NLOGL:-20.96  TRAIN CE:13.212901 TRAIN FRAC:97.50  VALID CE:5.667110  VALID FRAC:88.00\n",
      "ITERATION:  61  TRAIN NLOGL:-20.77  TRAIN CE:13.092929 TRAIN FRAC:97.50  VALID CE:5.644266  VALID FRAC:88.00\n",
      "ITERATION:  62  TRAIN NLOGL:-20.59  TRAIN CE:12.975615 TRAIN FRAC:97.50  VALID CE:5.621997  VALID FRAC:88.00\n",
      "ITERATION:  63  TRAIN NLOGL:-20.41  TRAIN CE:12.860862 TRAIN FRAC:97.50  VALID CE:5.600280  VALID FRAC:88.00\n",
      "ITERATION:  64  TRAIN NLOGL:-20.23  TRAIN CE:12.748575 TRAIN FRAC:97.50  VALID CE:5.579095  VALID FRAC:88.00\n",
      "ITERATION:  65  TRAIN NLOGL:-20.05  TRAIN CE:12.638666 TRAIN FRAC:97.50  VALID CE:5.558420  VALID FRAC:88.00\n",
      "ITERATION:  66  TRAIN NLOGL:-19.88  TRAIN CE:12.531051 TRAIN FRAC:97.50  VALID CE:5.538238  VALID FRAC:88.00\n",
      "ITERATION:  67  TRAIN NLOGL:-19.72  TRAIN CE:12.425649 TRAIN FRAC:97.50  VALID CE:5.518530  VALID FRAC:86.00\n",
      "ITERATION:  68  TRAIN NLOGL:-19.55  TRAIN CE:12.322385 TRAIN FRAC:97.50  VALID CE:5.499279  VALID FRAC:86.00\n",
      "ITERATION:  69  TRAIN NLOGL:-19.39  TRAIN CE:12.221185 TRAIN FRAC:98.12  VALID CE:5.480468  VALID FRAC:86.00\n",
      "ITERATION:  70  TRAIN NLOGL:-19.23  TRAIN CE:12.121982 TRAIN FRAC:98.12  VALID CE:5.462083  VALID FRAC:86.00\n",
      "ITERATION:  71  TRAIN NLOGL:-19.08  TRAIN CE:12.024709 TRAIN FRAC:98.12  VALID CE:5.444109  VALID FRAC:86.00\n",
      "ITERATION:  72  TRAIN NLOGL:-18.93  TRAIN CE:11.929303 TRAIN FRAC:98.12  VALID CE:5.426531  VALID FRAC:86.00\n",
      "ITERATION:  73  TRAIN NLOGL:-18.78  TRAIN CE:11.835705 TRAIN FRAC:98.12  VALID CE:5.409336  VALID FRAC:86.00\n",
      "ITERATION:  74  TRAIN NLOGL:-18.63  TRAIN CE:11.743857 TRAIN FRAC:98.12  VALID CE:5.392512  VALID FRAC:86.00\n",
      "ITERATION:  75  TRAIN NLOGL:-18.49  TRAIN CE:11.653705 TRAIN FRAC:98.12  VALID CE:5.376046  VALID FRAC:86.00\n",
      "ITERATION:  76  TRAIN NLOGL:-18.35  TRAIN CE:11.565196 TRAIN FRAC:98.12  VALID CE:5.359927  VALID FRAC:86.00\n",
      "ITERATION:  77  TRAIN NLOGL:-18.21  TRAIN CE:11.478280 TRAIN FRAC:98.12  VALID CE:5.344143  VALID FRAC:86.00\n",
      "ITERATION:  78  TRAIN NLOGL:-18.08  TRAIN CE:11.392911 TRAIN FRAC:98.12  VALID CE:5.328684  VALID FRAC:86.00\n",
      "ITERATION:  79  TRAIN NLOGL:-17.95  TRAIN CE:11.309041 TRAIN FRAC:98.12  VALID CE:5.313540  VALID FRAC:86.00\n",
      "ITERATION:  80  TRAIN NLOGL:-17.81  TRAIN CE:11.226626 TRAIN FRAC:98.12  VALID CE:5.298701  VALID FRAC:86.00\n",
      "ITERATION:  81  TRAIN NLOGL:-17.69  TRAIN CE:11.145626 TRAIN FRAC:98.12  VALID CE:5.284157  VALID FRAC:86.00\n",
      "ITERATION:  82  TRAIN NLOGL:-17.56  TRAIN CE:11.065999 TRAIN FRAC:98.12  VALID CE:5.269901  VALID FRAC:86.00\n",
      "ITERATION:  83  TRAIN NLOGL:-17.44  TRAIN CE:10.987706 TRAIN FRAC:98.12  VALID CE:5.255923  VALID FRAC:86.00\n",
      "ITERATION:  84  TRAIN NLOGL:-17.31  TRAIN CE:10.910711 TRAIN FRAC:98.12  VALID CE:5.242215  VALID FRAC:86.00\n",
      "ITERATION:  85  TRAIN NLOGL:-17.19  TRAIN CE:10.834978 TRAIN FRAC:98.12  VALID CE:5.228769  VALID FRAC:86.00\n",
      "ITERATION:  86  TRAIN NLOGL:-17.07  TRAIN CE:10.760471 TRAIN FRAC:98.12  VALID CE:5.215578  VALID FRAC:86.00\n",
      "ITERATION:  87  TRAIN NLOGL:-16.96  TRAIN CE:10.687159 TRAIN FRAC:98.12  VALID CE:5.202634  VALID FRAC:86.00\n",
      "ITERATION:  88  TRAIN NLOGL:-16.84  TRAIN CE:10.615009 TRAIN FRAC:98.12  VALID CE:5.189931  VALID FRAC:86.00\n",
      "ITERATION:  89  TRAIN NLOGL:-16.73  TRAIN CE:10.543991 TRAIN FRAC:98.75  VALID CE:5.177462  VALID FRAC:86.00\n",
      "ITERATION:  90  TRAIN NLOGL:-16.62  TRAIN CE:10.474075 TRAIN FRAC:98.75  VALID CE:5.165220  VALID FRAC:86.00\n",
      "ITERATION:  91  TRAIN NLOGL:-16.51  TRAIN CE:10.405233 TRAIN FRAC:98.75  VALID CE:5.153199  VALID FRAC:86.00\n",
      "ITERATION:  92  TRAIN NLOGL:-16.40  TRAIN CE:10.337437 TRAIN FRAC:98.75  VALID CE:5.141394  VALID FRAC:86.00\n",
      "ITERATION:  93  TRAIN NLOGL:-16.30  TRAIN CE:10.270662 TRAIN FRAC:98.75  VALID CE:5.129798  VALID FRAC:86.00\n",
      "ITERATION:  94  TRAIN NLOGL:-16.19  TRAIN CE:10.204881 TRAIN FRAC:99.38  VALID CE:5.118406  VALID FRAC:86.00\n",
      "ITERATION:  95  TRAIN NLOGL:-16.09  TRAIN CE:10.140071 TRAIN FRAC:99.38  VALID CE:5.107213  VALID FRAC:86.00\n",
      "ITERATION:  96  TRAIN NLOGL:-15.99  TRAIN CE:10.076207 TRAIN FRAC:99.38  VALID CE:5.096213  VALID FRAC:86.00\n",
      "ITERATION:  97  TRAIN NLOGL:-15.89  TRAIN CE:10.013266 TRAIN FRAC:99.38  VALID CE:5.085402  VALID FRAC:86.00\n",
      "ITERATION:  98  TRAIN NLOGL:-15.79  TRAIN CE:9.951227 TRAIN FRAC:99.38  VALID CE:5.074774  VALID FRAC:86.00\n",
      "ITERATION:  99  TRAIN NLOGL:-15.69  TRAIN CE:9.890068 TRAIN FRAC:99.38  VALID CE:5.064326  VALID FRAC:86.00\n",
      "ITERATION: 100  TRAIN NLOGL:-15.60  TRAIN CE:9.829769 TRAIN FRAC:99.38  VALID CE:5.054052  VALID FRAC:86.00\n",
      "ITERATION: 101  TRAIN NLOGL:-15.50  TRAIN CE:9.770309 TRAIN FRAC:99.38  VALID CE:5.043949  VALID FRAC:86.00\n",
      "ITERATION: 102  TRAIN NLOGL:-15.41  TRAIN CE:9.711670 TRAIN FRAC:99.38  VALID CE:5.034012  VALID FRAC:86.00\n",
      "ITERATION: 103  TRAIN NLOGL:-15.32  TRAIN CE:9.653832 TRAIN FRAC:99.38  VALID CE:5.024238  VALID FRAC:86.00\n"
     ]
    },
    {
     "name": "stdout",
     "output_type": "stream",
     "text": [
      "ITERATION: 104  TRAIN NLOGL:-15.23  TRAIN CE:9.596777 TRAIN FRAC:99.38  VALID CE:5.014621  VALID FRAC:86.00\n",
      "ITERATION: 105  TRAIN NLOGL:-15.14  TRAIN CE:9.540489 TRAIN FRAC:99.38  VALID CE:5.005160  VALID FRAC:86.00\n",
      "ITERATION: 106  TRAIN NLOGL:-15.05  TRAIN CE:9.484949 TRAIN FRAC:99.38  VALID CE:4.995849  VALID FRAC:86.00\n",
      "ITERATION: 107  TRAIN NLOGL:-14.96  TRAIN CE:9.430143 TRAIN FRAC:99.38  VALID CE:4.986686  VALID FRAC:86.00\n",
      "ITERATION: 108  TRAIN NLOGL:-14.88  TRAIN CE:9.376053 TRAIN FRAC:99.38  VALID CE:4.977667  VALID FRAC:86.00\n",
      "ITERATION: 109  TRAIN NLOGL:-14.79  TRAIN CE:9.322664 TRAIN FRAC:99.38  VALID CE:4.968789  VALID FRAC:86.00\n",
      "ITERATION: 110  TRAIN NLOGL:-14.71  TRAIN CE:9.269962 TRAIN FRAC:99.38  VALID CE:4.960048  VALID FRAC:86.00\n",
      "ITERATION: 111  TRAIN NLOGL:-14.63  TRAIN CE:9.217931 TRAIN FRAC:99.38  VALID CE:4.951442  VALID FRAC:86.00\n",
      "ITERATION: 112  TRAIN NLOGL:-14.55  TRAIN CE:9.166558 TRAIN FRAC:99.38  VALID CE:4.942968  VALID FRAC:86.00\n",
      "ITERATION: 113  TRAIN NLOGL:-14.47  TRAIN CE:9.115830 TRAIN FRAC:99.38  VALID CE:4.934622  VALID FRAC:86.00\n",
      "ITERATION: 114  TRAIN NLOGL:-14.39  TRAIN CE:9.065732 TRAIN FRAC:99.38  VALID CE:4.926402  VALID FRAC:86.00\n",
      "ITERATION: 115  TRAIN NLOGL:-14.31  TRAIN CE:9.016253 TRAIN FRAC:99.38  VALID CE:4.918305  VALID FRAC:86.00\n",
      "ITERATION: 116  TRAIN NLOGL:-14.23  TRAIN CE:8.967378 TRAIN FRAC:99.38  VALID CE:4.910329  VALID FRAC:86.00\n",
      "ITERATION: 117  TRAIN NLOGL:-14.15  TRAIN CE:8.919098 TRAIN FRAC:99.38  VALID CE:4.902470  VALID FRAC:86.00\n",
      "ITERATION: 118  TRAIN NLOGL:-14.08  TRAIN CE:8.871399 TRAIN FRAC:100.00  VALID CE:4.894727  VALID FRAC:86.00\n",
      "ITERATION: 119  TRAIN NLOGL:-14.00  TRAIN CE:8.824269 TRAIN FRAC:100.00  VALID CE:4.887096  VALID FRAC:86.00\n",
      "ITERATION: 120  TRAIN NLOGL:-13.93  TRAIN CE:8.777699 TRAIN FRAC:100.00  VALID CE:4.879577  VALID FRAC:86.00\n",
      "ITERATION: 121  TRAIN NLOGL:-13.86  TRAIN CE:8.731677 TRAIN FRAC:100.00  VALID CE:4.872165  VALID FRAC:86.00\n",
      "ITERATION: 122  TRAIN NLOGL:-13.78  TRAIN CE:8.686193 TRAIN FRAC:100.00  VALID CE:4.864860  VALID FRAC:86.00\n",
      "ITERATION: 123  TRAIN NLOGL:-13.71  TRAIN CE:8.641236 TRAIN FRAC:100.00  VALID CE:4.857659  VALID FRAC:86.00\n",
      "ITERATION: 124  TRAIN NLOGL:-13.64  TRAIN CE:8.596796 TRAIN FRAC:100.00  VALID CE:4.850559  VALID FRAC:86.00\n",
      "ITERATION: 125  TRAIN NLOGL:-13.57  TRAIN CE:8.552864 TRAIN FRAC:100.00  VALID CE:4.843560  VALID FRAC:86.00\n",
      "ITERATION: 126  TRAIN NLOGL:-13.50  TRAIN CE:8.509430 TRAIN FRAC:100.00  VALID CE:4.836658  VALID FRAC:86.00\n",
      "ITERATION: 127  TRAIN NLOGL:-13.44  TRAIN CE:8.466485 TRAIN FRAC:100.00  VALID CE:4.829852  VALID FRAC:86.00\n",
      "ITERATION: 128  TRAIN NLOGL:-13.37  TRAIN CE:8.424021 TRAIN FRAC:100.00  VALID CE:4.823140  VALID FRAC:86.00\n",
      "ITERATION: 129  TRAIN NLOGL:-13.30  TRAIN CE:8.382027 TRAIN FRAC:100.00  VALID CE:4.816520  VALID FRAC:86.00\n",
      "ITERATION: 130  TRAIN NLOGL:-13.24  TRAIN CE:8.340496 TRAIN FRAC:100.00  VALID CE:4.809991  VALID FRAC:86.00\n",
      "ITERATION: 131  TRAIN NLOGL:-13.17  TRAIN CE:8.299420 TRAIN FRAC:100.00  VALID CE:4.803550  VALID FRAC:86.00\n",
      "ITERATION: 132  TRAIN NLOGL:-13.11  TRAIN CE:8.258790 TRAIN FRAC:100.00  VALID CE:4.797197  VALID FRAC:86.00\n",
      "ITERATION: 133  TRAIN NLOGL:-13.04  TRAIN CE:8.218598 TRAIN FRAC:100.00  VALID CE:4.790928  VALID FRAC:86.00\n",
      "ITERATION: 134  TRAIN NLOGL:-12.98  TRAIN CE:8.178837 TRAIN FRAC:100.00  VALID CE:4.784744  VALID FRAC:86.00\n",
      "ITERATION: 135  TRAIN NLOGL:-12.92  TRAIN CE:8.139500 TRAIN FRAC:100.00  VALID CE:4.778641  VALID FRAC:86.00\n",
      "ITERATION: 136  TRAIN NLOGL:-12.86  TRAIN CE:8.100579 TRAIN FRAC:100.00  VALID CE:4.772620  VALID FRAC:86.00\n",
      "ITERATION: 137  TRAIN NLOGL:-12.79  TRAIN CE:8.062066 TRAIN FRAC:100.00  VALID CE:4.766677  VALID FRAC:86.00\n",
      "ITERATION: 138  TRAIN NLOGL:-12.73  TRAIN CE:8.023955 TRAIN FRAC:100.00  VALID CE:4.760813  VALID FRAC:86.00\n",
      "ITERATION: 139  TRAIN NLOGL:-12.67  TRAIN CE:7.986240 TRAIN FRAC:100.00  VALID CE:4.755024  VALID FRAC:86.00\n",
      "ITERATION: 140  TRAIN NLOGL:-12.62  TRAIN CE:7.948913 TRAIN FRAC:100.00  VALID CE:4.749311  VALID FRAC:86.00\n",
      "ITERATION: 141  TRAIN NLOGL:-12.56  TRAIN CE:7.911968 TRAIN FRAC:100.00  VALID CE:4.743671  VALID FRAC:86.00\n",
      "ITERATION: 142  TRAIN NLOGL:-12.50  TRAIN CE:7.875399 TRAIN FRAC:100.00  VALID CE:4.738104  VALID FRAC:86.00\n",
      "ITERATION: 143  TRAIN NLOGL:-12.44  TRAIN CE:7.839199 TRAIN FRAC:100.00  VALID CE:4.732607  VALID FRAC:86.00\n",
      "ITERATION: 144  TRAIN NLOGL:-12.38  TRAIN CE:7.803363 TRAIN FRAC:100.00  VALID CE:4.727181  VALID FRAC:86.00\n",
      "ITERATION: 145  TRAIN NLOGL:-12.33  TRAIN CE:7.767884 TRAIN FRAC:100.00  VALID CE:4.721822  VALID FRAC:86.00\n",
      "ITERATION: 146  TRAIN NLOGL:-12.27  TRAIN CE:7.732757 TRAIN FRAC:100.00  VALID CE:4.716532  VALID FRAC:86.00\n",
      "ITERATION: 147  TRAIN NLOGL:-12.22  TRAIN CE:7.697976 TRAIN FRAC:100.00  VALID CE:4.711307  VALID FRAC:86.00\n",
      "ITERATION: 148  TRAIN NLOGL:-12.16  TRAIN CE:7.663536 TRAIN FRAC:100.00  VALID CE:4.706148  VALID FRAC:86.00\n",
      "ITERATION: 149  TRAIN NLOGL:-12.11  TRAIN CE:7.629432 TRAIN FRAC:100.00  VALID CE:4.701053  VALID FRAC:86.00\n",
      "ITERATION: 150  TRAIN NLOGL:-12.05  TRAIN CE:7.595657 TRAIN FRAC:100.00  VALID CE:4.696020  VALID FRAC:86.00\n"
     ]
    },
    {
     "data": {
      "image/png": "[encoded data removed]",
      "text/plain": [
       "<Figure size 432x288 with 1 Axes>"
      ]
     },
     "metadata": {
      "needs_background": "light"
     },
     "output_type": "display_data"
    },
    {
     "data": {
      "image/png": "[encoded data removed]",
      "text/plain": [
       "<Figure size 432x288 with 1 Axes>"
      ]
     },
     "metadata": {
      "needs_background": "light"
     },
     "output_type": "display_data"
    }
   ],
   "source": [
    "run_logistic_regression(0.1, 150)"
   ]
  }
 ],
 "metadata": {
  "kernelspec": {
   "display_name": "Python 3",
   "language": "python",
   "name": "python3"
  },
  "language_info": {
   "codemirror_mode": {
    "name": "ipython",
    "version": 3
   },
   "file_extension": ".py",
   "mimetype": "text/x-python",
   "name": "python",
   "nbconvert_exporter": "python",
   "pygments_lexer": "ipython3",
   "version": "3.7.3"
  }
 },
 "nbformat": 4,
 "nbformat_minor": 2
}
